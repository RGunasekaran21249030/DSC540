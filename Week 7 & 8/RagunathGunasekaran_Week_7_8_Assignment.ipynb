{
 "cells": [
  {
   "cell_type": "markdown",
   "metadata": {},
   "source": [
    "#  Import Python Libraries"
   ]
  },
  {
   "cell_type": "code",
   "execution_count": 172,
   "metadata": {},
   "outputs": [],
   "source": [
    "import pandas as pd\n",
    "import numpy as np\n",
    "from datetime import datetime\n",
    "from dateutil.parser import parse\n",
    "from pandas.tseries.offsets import Hour, Minute"
   ]
  },
  {
   "cell_type": "markdown",
   "metadata": {},
   "source": [
    "##  Loading data"
   ]
  },
  {
   "cell_type": "code",
   "execution_count": 138,
   "metadata": {},
   "outputs": [],
   "source": [
    "Boing_2016_Survey_df = pd.read_excel (r'BOING-BOING-CANDY-HIERARCHY-2016-SURVEY-Responses.xlsx')\n",
    "Boing_2016_Survey_df.head(2)\n",
    "\n",
    "Boing_2016_Survey_df = pd.read_excel (r'BOING-BOING-CANDY-HIERARCHY-2016-SURVEY-Responses.xlsx')"
   ]
  },
  {
   "cell_type": "code",
   "execution_count": 120,
   "metadata": {},
   "outputs": [],
   "source": [
    "Boing_2015_Survey_df = pd.read_excel (r'CANDY-HIERARCHY-2015-SURVEY-Responses.xlsx')\n",
    "Boing_2017_Survey_df = pd.read_excel (r'candyhierarchy2017.xlsx')"
   ]
  },
  {
   "cell_type": "markdown",
   "metadata": {},
   "source": [
    "# Data Cleaning and Preparation"
   ]
  },
  {
   "cell_type": "markdown",
   "metadata": {},
   "source": [
    "## Handling Missing Data"
   ]
  },
  {
   "cell_type": "code",
   "execution_count": 121,
   "metadata": {},
   "outputs": [
    {
     "data": {
      "text/plain": [
       "Internal ID                    0\n",
       "Q1: GOING OUT?               110\n",
       "Q2: GENDER                    41\n",
       "Q3: AGE                       84\n",
       "Q4: COUNTRY                   64\n",
       "                            ... \n",
       "Q12: MEDIA [Daily Dish]     2375\n",
       "Q12: MEDIA [Science]        1098\n",
       "Q12: MEDIA [ESPN]           2361\n",
       "Q12: MEDIA [Yahoo]          2393\n",
       "Click Coordinates (x, y)     855\n",
       "Length: 120, dtype: int64"
      ]
     },
     "execution_count": 121,
     "metadata": {},
     "output_type": "execute_result"
    }
   ],
   "source": [
    "Boing_2016_Survey_df.isnull()\n",
    "Boing_2015_Survey_df.isnull().sum()\n",
    "Boing_2016_Survey_df.isnull().sum()\n",
    "Boing_2017_Survey_df.isnull().sum()"
   ]
  },
  {
   "cell_type": "code",
   "execution_count": 122,
   "metadata": {},
   "outputs": [],
   "source": [
    "Boing_2015_Survey_df.dropna(axis=0,inplace=True)\n",
    "Boing_2016_Survey_df.dropna(axis=0,inplace=True)\n",
    "Boing_2017_Survey_df.dropna(axis=0,inplace=True)"
   ]
  },
  {
   "cell_type": "markdown",
   "metadata": {},
   "source": [
    "## Filling In Missing Data"
   ]
  },
  {
   "cell_type": "code",
   "execution_count": 123,
   "metadata": {},
   "outputs": [
    {
     "data": {
      "text/plain": [
       "Series([], Name: Q2: GENDER, dtype: object)"
      ]
     },
     "execution_count": 123,
     "metadata": {},
     "output_type": "execute_result"
    }
   ],
   "source": [
    "Boing_2015_Survey_df['How old are you?'].fillna('Age is Missing', inplace=True)\n",
    "Boing_2016_Survey_df['How old are you?'].fillna('No Gender', inplace=True)\n",
    "Boing_2017_Survey_df['Q2: GENDER'].fillna('No Gender', inplace=True)"
   ]
  },
  {
   "cell_type": "markdown",
   "metadata": {},
   "source": [
    "## Removing Duplicates"
   ]
  },
  {
   "cell_type": "code",
   "execution_count": 124,
   "metadata": {},
   "outputs": [
    {
     "data": {
      "text/plain": [
       "Series([], dtype: bool)"
      ]
     },
     "execution_count": 124,
     "metadata": {},
     "output_type": "execute_result"
    }
   ],
   "source": [
    "Boing_2015_Survey_df.duplicated()\n",
    "Boing_2016_Survey_df.duplicated()\n",
    "Boing_2017_Survey_df.duplicated()"
   ]
  },
  {
   "cell_type": "code",
   "execution_count": 125,
   "metadata": {},
   "outputs": [
    {
     "data": {
      "text/html": [
       "<div>\n",
       "<style scoped>\n",
       "    .dataframe tbody tr th:only-of-type {\n",
       "        vertical-align: middle;\n",
       "    }\n",
       "\n",
       "    .dataframe tbody tr th {\n",
       "        vertical-align: top;\n",
       "    }\n",
       "\n",
       "    .dataframe thead th {\n",
       "        text-align: right;\n",
       "    }\n",
       "</style>\n",
       "<table border=\"1\" class=\"dataframe\">\n",
       "  <thead>\n",
       "    <tr style=\"text-align: right;\">\n",
       "      <th></th>\n",
       "      <th>Internal ID</th>\n",
       "      <th>Q1: GOING OUT?</th>\n",
       "      <th>Q2: GENDER</th>\n",
       "      <th>Q3: AGE</th>\n",
       "      <th>Q4: COUNTRY</th>\n",
       "      <th>Q5: STATE, PROVINCE, COUNTY, ETC</th>\n",
       "      <th>Q6 | 100 Grand Bar</th>\n",
       "      <th>Q6 | Anonymous brown globs that come in black and orange wrappers\\t(a.k.a. Mary Janes)</th>\n",
       "      <th>Q6 | Any full-sized candy bar</th>\n",
       "      <th>Q6 | Black Jacks</th>\n",
       "      <th>...</th>\n",
       "      <th>Q8: DESPAIR OTHER</th>\n",
       "      <th>Q9: OTHER COMMENTS</th>\n",
       "      <th>Q10: DRESS</th>\n",
       "      <th>Unnamed: 113</th>\n",
       "      <th>Q11: DAY</th>\n",
       "      <th>Q12: MEDIA [Daily Dish]</th>\n",
       "      <th>Q12: MEDIA [Science]</th>\n",
       "      <th>Q12: MEDIA [ESPN]</th>\n",
       "      <th>Q12: MEDIA [Yahoo]</th>\n",
       "      <th>Click Coordinates (x, y)</th>\n",
       "    </tr>\n",
       "  </thead>\n",
       "  <tbody>\n",
       "  </tbody>\n",
       "</table>\n",
       "<p>0 rows × 120 columns</p>\n",
       "</div>"
      ],
      "text/plain": [
       "Empty DataFrame\n",
       "Columns: [Internal ID, Q1: GOING OUT?, Q2: GENDER, Q3: AGE, Q4: COUNTRY, Q5: STATE, PROVINCE, COUNTY, ETC, Q6 | 100 Grand Bar, Q6 | Anonymous brown globs that come in black and orange wrappers\t(a.k.a. Mary Janes), Q6 | Any full-sized candy bar, Q6 | Black Jacks, Q6 | Bonkers (the candy), Q6 | Bonkers (the board game), Q6 | Bottle Caps, Q6 | Box'o'Raisins, Q6 | Broken glow stick, Q6 | Butterfinger, Q6 | Cadbury Creme Eggs, Q6 | Candy Corn, Q6 | Candy that is clearly just the stuff given out for free at restaurants, Q6 | Caramellos, Q6 | Cash, or other forms of legal tender, Q6 | Chardonnay, Q6 | Chick-o-Sticks (we don’t know what that is), Q6 | Chiclets, Q6 | Coffee Crisp, Q6 | Creepy Religious comics/Chick Tracts, Q6 | Dental paraphenalia, Q6 | Dots, Q6 | Dove Bars, Q6 | Fuzzy Peaches, Q6 | Generic Brand Acetaminophen, Q6 | Glow sticks, Q6 | Goo Goo Clusters, Q6 | Good N' Plenty, Q6 | Gum from baseball cards, Q6 | Gummy Bears straight up, Q6 | Hard Candy, Q6 | Healthy Fruit, Q6 | Heath Bar, Q6 | Hershey's Dark Chocolate, Q6 | Hershey’s Milk Chocolate, Q6 | Hershey's Kisses, Q6 | Hugs (actual physical hugs), Q6 | Jolly Rancher (bad flavor), Q6 | Jolly Ranchers (good flavor), Q6 | JoyJoy (Mit Iodine!), Q6 | Junior Mints, Q6 | Senior Mints, Q6 | Kale smoothie, Q6 | Kinder Happy Hippo, Q6 | Kit Kat, Q6 | LaffyTaffy, Q6 | LemonHeads, Q6 | Licorice (not black), Q6 | Licorice (yes black), Q6 | Lindt Truffle, Q6 | Lollipops, Q6 | Mars, Q6 | Maynards, Q6 | Mike and Ike, Q6 | Milk Duds, Q6 | Milky Way, Q6 | Regular M&Ms, Q6 | Peanut M&M’s, Q6 | Blue M&M's, Q6 | Red M&M's, Q6 | Green Party M&M's, Q6 | Independent M&M's, Q6 | Abstained from M&M'ing., Q6 | Minibags of chips, Q6 | Mint Kisses, Q6 | Mint Juleps, Q6 | Mr. Goodbar, Q6 | Necco Wafers, Q6 | Nerds, Q6 | Nestle Crunch, Q6 | Now'n'Laters, Q6 | Peeps, Q6 | Pencils, Q6 | Pixy Stix, Q6 | Real Housewives of Orange County Season 9 Blue-Ray, Q6 | Reese’s Peanut Butter Cups, Q6 | Reese's Pieces, Q6 | Reggie Jackson Bar, Q6 | Rolos, Q6 | Sandwich-sized bags filled with BooBerry Crunch, Q6 | Skittles, Q6 | Smarties (American), Q6 | Smarties (Commonwealth), Q6 | Snickers, Q6 | Sourpatch Kids (i.e. abominations of nature), Q6 | Spotted Dick, Q6 | Starburst, Q6 | Sweet Tarts, Q6 | Swedish Fish, Q6 | Sweetums (a friend to diabetes), Q6 | Take 5, Q6 | Tic Tacs, Q6 | Those odd marshmallow circus peanut things, Q6 | Three Musketeers, ...]\n",
       "Index: []\n",
       "\n",
       "[0 rows x 120 columns]"
      ]
     },
     "execution_count": 125,
     "metadata": {},
     "output_type": "execute_result"
    }
   ],
   "source": [
    "Boing_2015_Survey_df.drop_duplicates()\n",
    "Boing_2016_Survey_df.drop_duplicates()\n",
    "Boing_2017_Survey_df.drop_duplicates()"
   ]
  },
  {
   "cell_type": "markdown",
   "metadata": {},
   "source": [
    "## Replacing Values"
   ]
  },
  {
   "cell_type": "code",
   "execution_count": 126,
   "metadata": {},
   "outputs": [
    {
     "data": {
      "text/plain": [
       "Series([], Name: Q2: GENDER, dtype: object)"
      ]
     },
     "execution_count": 126,
     "metadata": {},
     "output_type": "execute_result"
    }
   ],
   "source": [
    "Boing_2015_Survey_df['How old are you?'].replace(to_replace = np.nan, value = 0,inplace=True)\n",
    "Boing_2016_Survey_df['How old are you?'].replace(to_replace = np.nan, value = 0,inplace=True)\n",
    "Boing_2017_Survey_df['Q2: GENDER'].replace(to_replace = np.nan, value = 0,inplace=True)"
   ]
  },
  {
   "cell_type": "markdown",
   "metadata": {},
   "source": [
    "# Data Wrangling: Join, Combine"
   ]
  },
  {
   "cell_type": "markdown",
   "metadata": {},
   "source": [
    "## Hierarchical Indexing"
   ]
  },
  {
   "cell_type": "code",
   "execution_count": 127,
   "metadata": {},
   "outputs": [
    {
     "data": {
      "text/plain": [
       "Int64Index([], dtype='int64')"
      ]
     },
     "execution_count": 127,
     "metadata": {},
     "output_type": "execute_result"
    }
   ],
   "source": [
    "Boing_2015_Survey_df.index\n",
    "Boing_2016_Survey_df.index\n",
    "Boing_2017_Survey_df.index"
   ]
  },
  {
   "cell_type": "markdown",
   "metadata": {},
   "source": [
    "## Combining and Merging Datasets"
   ]
  },
  {
   "cell_type": "code",
   "execution_count": 128,
   "metadata": {},
   "outputs": [],
   "source": [
    "pd.merge(Boing_2015_Survey_df, Boing_2016_Survey_df)\n",
    "\n",
    "combine_df = pd.merge(Boing_2015_Survey_df, Boing_2016_Survey_df, how='outer')"
   ]
  },
  {
   "cell_type": "code",
   "execution_count": 129,
   "metadata": {},
   "outputs": [
    {
     "data": {
      "text/plain": [
       "Series([], dtype: object)"
      ]
     },
     "execution_count": 129,
     "metadata": {},
     "output_type": "execute_result"
    }
   ],
   "source": [
    "result = Boing_2016_Survey_df.stack()\n",
    "result"
   ]
  },
  {
   "cell_type": "code",
   "execution_count": 130,
   "metadata": {},
   "outputs": [
    {
     "data": {
      "text/html": [
       "<div>\n",
       "<style scoped>\n",
       "    .dataframe tbody tr th:only-of-type {\n",
       "        vertical-align: middle;\n",
       "    }\n",
       "\n",
       "    .dataframe tbody tr th {\n",
       "        vertical-align: top;\n",
       "    }\n",
       "\n",
       "    .dataframe thead th {\n",
       "        text-align: right;\n",
       "    }\n",
       "</style>\n",
       "<table border=\"1\" class=\"dataframe\">\n",
       "  <thead>\n",
       "    <tr style=\"text-align: right;\">\n",
       "      <th></th>\n",
       "      <th>Timestamp</th>\n",
       "      <th>Are you going actually going trick or treating yourself?</th>\n",
       "      <th>Your gender:</th>\n",
       "      <th>How old are you?</th>\n",
       "      <th>Which country do you live in?</th>\n",
       "      <th>Which state, province, county do you live in?</th>\n",
       "      <th>[100 Grand Bar]</th>\n",
       "      <th>[Anonymous brown globs that come in black and orange wrappers]</th>\n",
       "      <th>[Any full-sized candy bar]</th>\n",
       "      <th>[Black Jacks]</th>\n",
       "      <th>...</th>\n",
       "      <th>Please estimate the degree(s) of separation you have from the following celebrities [JK Rowling]</th>\n",
       "      <th>Please estimate the degree(s) of separation you have from the following celebrities [JJ Abrams]</th>\n",
       "      <th>Please estimate the degree(s) of separation you have from the following celebrities [Beyoncé]</th>\n",
       "      <th>Please estimate the degree(s) of separation you have from the following celebrities [Bieber]</th>\n",
       "      <th>Please estimate the degree(s) of separation you have from the following celebrities [Kevin Bacon]</th>\n",
       "      <th>Please estimate the degree(s) of separation you have from the following celebrities [Francis Bacon (1561 - 1626)]</th>\n",
       "      <th>Which day do you prefer, Friday or Sunday?</th>\n",
       "      <th>Do you eat apples the correct way, East to West (side to side) or do you eat them like a freak of nature, South to North (bottom to top)?</th>\n",
       "      <th>When you see the above image of the 4 different websites, which one would you most likely check out (please be honest).</th>\n",
       "      <th>[York Peppermint Patties] Ignore</th>\n",
       "    </tr>\n",
       "  </thead>\n",
       "  <tbody>\n",
       "  </tbody>\n",
       "</table>\n",
       "<p>0 rows × 123 columns</p>\n",
       "</div>"
      ],
      "text/plain": [
       "Empty DataFrame\n",
       "Columns: [Timestamp, Are you going actually going trick or treating yourself?, Your gender:, How old are you?, Which country do you live in?, Which state, province, county do you live in?,  [100 Grand Bar],  [Anonymous brown globs that come in black and orange wrappers],  [Any full-sized candy bar],  [Black Jacks],  [Bonkers (the candy)],  [Bonkers (the board game)],  [Bottle Caps],  [Box'o'Raisins],  [Broken glow stick],  [Butterfinger],  [Cadbury Creme Eggs],  [Candy Corn],  [Candy that is clearly just the stuff given out for free at restaurants],  [Caramellos],  [Cash, or other forms of legal tender],  [Chardonnay],  [Chick-o-Sticks (we don’t know what that is)],  [Chiclets],  [Coffee Crisp],  [Creepy Religious comics/Chick Tracts],  [Dental paraphenalia],  [Dots],  [Dove Bars],  [Fuzzy Peaches],  [Generic Brand Acetaminophen],  [Glow sticks],  [Goo Goo Clusters],  [Good N' Plenty],  [Gum from baseball cards],  [Gummy Bears straight up],  [Hard Candy],  [Healthy Fruit],  [Heath Bar],  [Hershey's Dark Chocolate],  [Hershey’s Milk Chocolate],  [Hershey's Kisses],  [Hugs (actual physical hugs)],  [Jolly Rancher (bad flavor)],  [Jolly Ranchers (good flavor)],  [JoyJoy (Mit Iodine!)],  [Junior Mints],  [Senior Mints],  [Kale smoothie],  [Kinder Happy Hippo],  [Kit Kat],  [LaffyTaffy],  [LemonHeads],  [Licorice (not black)],  [Licorice (yes black)],  [Lindt Truffle],  [Lollipops],  [Mars],  [Mary Janes],  [Maynards],  [Mike and Ike],  [Milk Duds],  [Milky Way],  [Regular M&Ms],  [Peanut M&M’s],  [Blue M&M's],  [Red M&M's],  [Third Party M&M's],  [Minibags of chips],  [Mint Kisses],  [Mint Juleps],  [Mr. Goodbar],  [Necco Wafers],  [Nerds],  [Nestle Crunch],  [Now'n'Laters],  [Peeps],  [Pencils],  [Person of Interest Season 3 DVD Box Set (not including Disc 4 with hilarious outtakes)],  [Pixy Stix],  [Reese’s Peanut Butter Cups],  [Reese's Pieces],  [Reggie Jackson Bar],  [Rolos],  [Skittles],  [Smarties (American)],  [Smarties (Commonwealth)],  [Snickers],  [Sourpatch Kids (i.e. abominations of nature)],  [Spotted Dick],  [Starburst],  [Sweet Tarts],  [Swedish Fish],  [Sweetums (a friend to diabetes)],  [Tic Tacs],  [Those odd marshmallow circus peanut things],  [Three Musketeers],  [Tolberone something or other],  [Trail Mix],  [Twix], ...]\n",
       "Index: []\n",
       "\n",
       "[0 rows x 123 columns]"
      ]
     },
     "execution_count": 130,
     "metadata": {},
     "output_type": "execute_result"
    }
   ],
   "source": [
    "Boing_2016_Survey_df"
   ]
  },
  {
   "cell_type": "code",
   "execution_count": 131,
   "metadata": {},
   "outputs": [
    {
     "data": {
      "text/html": [
       "<div>\n",
       "<style scoped>\n",
       "    .dataframe tbody tr th:only-of-type {\n",
       "        vertical-align: middle;\n",
       "    }\n",
       "\n",
       "    .dataframe tbody tr th {\n",
       "        vertical-align: top;\n",
       "    }\n",
       "\n",
       "    .dataframe thead th {\n",
       "        text-align: right;\n",
       "    }\n",
       "</style>\n",
       "<table border=\"1\" class=\"dataframe\">\n",
       "  <thead>\n",
       "    <tr style=\"text-align: right;\">\n",
       "      <th></th>\n",
       "    </tr>\n",
       "    <tr>\n",
       "      <th>Your gender:</th>\n",
       "    </tr>\n",
       "  </thead>\n",
       "  <tbody>\n",
       "  </tbody>\n",
       "</table>\n",
       "</div>"
      ],
      "text/plain": [
       "Empty DataFrame\n",
       "Columns: []\n",
       "Index: []"
      ]
     },
     "execution_count": 131,
     "metadata": {},
     "output_type": "execute_result"
    }
   ],
   "source": [
    "table = pd.pivot_table(data=Boing_2016_Survey_df,index=['Your gender:'])\n",
    "table"
   ]
  },
  {
   "cell_type": "markdown",
   "metadata": {},
   "source": [
    "# Data Aggregation and Group Operations"
   ]
  },
  {
   "cell_type": "markdown",
   "metadata": {},
   "source": [
    "## Grouping with Dicts and Series"
   ]
  },
  {
   "cell_type": "code",
   "execution_count": 132,
   "metadata": {},
   "outputs": [
    {
     "data": {
      "text/html": [
       "<div>\n",
       "<style scoped>\n",
       "    .dataframe tbody tr th:only-of-type {\n",
       "        vertical-align: middle;\n",
       "    }\n",
       "\n",
       "    .dataframe tbody tr th {\n",
       "        vertical-align: top;\n",
       "    }\n",
       "\n",
       "    .dataframe thead th {\n",
       "        text-align: right;\n",
       "    }\n",
       "</style>\n",
       "<table border=\"1\" class=\"dataframe\">\n",
       "  <thead>\n",
       "    <tr style=\"text-align: right;\">\n",
       "      <th></th>\n",
       "      <th>a</th>\n",
       "      <th>b</th>\n",
       "      <th>c</th>\n",
       "      <th>d</th>\n",
       "      <th>e</th>\n",
       "    </tr>\n",
       "  </thead>\n",
       "  <tbody>\n",
       "    <tr>\n",
       "      <th>Joe</th>\n",
       "      <td>0.972426</td>\n",
       "      <td>0.286462</td>\n",
       "      <td>0.286919</td>\n",
       "      <td>0.375954</td>\n",
       "      <td>-0.156555</td>\n",
       "    </tr>\n",
       "    <tr>\n",
       "      <th>Steve</th>\n",
       "      <td>0.123918</td>\n",
       "      <td>-1.100295</td>\n",
       "      <td>-0.031675</td>\n",
       "      <td>0.184132</td>\n",
       "      <td>-0.668065</td>\n",
       "    </tr>\n",
       "    <tr>\n",
       "      <th>Wes</th>\n",
       "      <td>1.768657</td>\n",
       "      <td>NaN</td>\n",
       "      <td>NaN</td>\n",
       "      <td>-1.242628</td>\n",
       "      <td>0.938893</td>\n",
       "    </tr>\n",
       "    <tr>\n",
       "      <th>Jim</th>\n",
       "      <td>0.012557</td>\n",
       "      <td>-1.401545</td>\n",
       "      <td>0.674510</td>\n",
       "      <td>1.302710</td>\n",
       "      <td>0.475563</td>\n",
       "    </tr>\n",
       "    <tr>\n",
       "      <th>Travis</th>\n",
       "      <td>0.206553</td>\n",
       "      <td>0.098606</td>\n",
       "      <td>0.535408</td>\n",
       "      <td>-1.207087</td>\n",
       "      <td>-2.714530</td>\n",
       "    </tr>\n",
       "  </tbody>\n",
       "</table>\n",
       "</div>"
      ],
      "text/plain": [
       "               a         b         c         d         e\n",
       "Joe     0.972426  0.286462  0.286919  0.375954 -0.156555\n",
       "Steve   0.123918 -1.100295 -0.031675  0.184132 -0.668065\n",
       "Wes     1.768657       NaN       NaN -1.242628  0.938893\n",
       "Jim     0.012557 -1.401545  0.674510  1.302710  0.475563\n",
       "Travis  0.206553  0.098606  0.535408 -1.207087 -2.714530"
      ]
     },
     "execution_count": 132,
     "metadata": {},
     "output_type": "execute_result"
    }
   ],
   "source": [
    "people = pd.DataFrame(np.random.randn(5, 5),\n",
    "                      columns=['a', 'b', 'c', 'd', 'e'],\n",
    "                      index=['Joe', 'Steve', 'Wes', 'Jim', 'Travis'])\n",
    "people.iloc[2:3, [1, 2]] = np.nan # Add a few NA values\n",
    "people"
   ]
  },
  {
   "cell_type": "code",
   "execution_count": 133,
   "metadata": {},
   "outputs": [
    {
     "data": {
      "text/html": [
       "<div>\n",
       "<style scoped>\n",
       "    .dataframe tbody tr th:only-of-type {\n",
       "        vertical-align: middle;\n",
       "    }\n",
       "\n",
       "    .dataframe tbody tr th {\n",
       "        vertical-align: top;\n",
       "    }\n",
       "\n",
       "    .dataframe thead th {\n",
       "        text-align: right;\n",
       "    }\n",
       "</style>\n",
       "<table border=\"1\" class=\"dataframe\">\n",
       "  <thead>\n",
       "    <tr style=\"text-align: right;\">\n",
       "      <th></th>\n",
       "      <th>Timestamp</th>\n",
       "      <th>Are you going actually going trick or treating yourself?</th>\n",
       "      <th>Your gender:</th>\n",
       "      <th>How old are you?</th>\n",
       "      <th>Which country do you live in?</th>\n",
       "      <th>Which state, province, county do you live in?</th>\n",
       "      <th>[100 Grand Bar]</th>\n",
       "      <th>[Anonymous brown globs that come in black and orange wrappers]</th>\n",
       "      <th>[Any full-sized candy bar]</th>\n",
       "      <th>[Black Jacks]</th>\n",
       "      <th>...</th>\n",
       "      <th>Please estimate the degree(s) of separation you have from the following celebrities [JK Rowling]</th>\n",
       "      <th>Please estimate the degree(s) of separation you have from the following celebrities [JJ Abrams]</th>\n",
       "      <th>Please estimate the degree(s) of separation you have from the following celebrities [Beyoncé]</th>\n",
       "      <th>Please estimate the degree(s) of separation you have from the following celebrities [Bieber]</th>\n",
       "      <th>Please estimate the degree(s) of separation you have from the following celebrities [Kevin Bacon]</th>\n",
       "      <th>Please estimate the degree(s) of separation you have from the following celebrities [Francis Bacon (1561 - 1626)]</th>\n",
       "      <th>Which day do you prefer, Friday or Sunday?</th>\n",
       "      <th>Do you eat apples the correct way, East to West (side to side) or do you eat them like a freak of nature, South to North (bottom to top)?</th>\n",
       "      <th>When you see the above image of the 4 different websites, which one would you most likely check out (please be honest).</th>\n",
       "      <th>[York Peppermint Patties] Ignore</th>\n",
       "    </tr>\n",
       "  </thead>\n",
       "  <tbody>\n",
       "  </tbody>\n",
       "</table>\n",
       "<p>0 rows × 123 columns</p>\n",
       "</div>"
      ],
      "text/plain": [
       "Empty DataFrame\n",
       "Columns: [Timestamp, Are you going actually going trick or treating yourself?, Your gender:, How old are you?, Which country do you live in?, Which state, province, county do you live in?,  [100 Grand Bar],  [Anonymous brown globs that come in black and orange wrappers],  [Any full-sized candy bar],  [Black Jacks],  [Bonkers (the candy)],  [Bonkers (the board game)],  [Bottle Caps],  [Box'o'Raisins],  [Broken glow stick],  [Butterfinger],  [Cadbury Creme Eggs],  [Candy Corn],  [Candy that is clearly just the stuff given out for free at restaurants],  [Caramellos],  [Cash, or other forms of legal tender],  [Chardonnay],  [Chick-o-Sticks (we don’t know what that is)],  [Chiclets],  [Coffee Crisp],  [Creepy Religious comics/Chick Tracts],  [Dental paraphenalia],  [Dots],  [Dove Bars],  [Fuzzy Peaches],  [Generic Brand Acetaminophen],  [Glow sticks],  [Goo Goo Clusters],  [Good N' Plenty],  [Gum from baseball cards],  [Gummy Bears straight up],  [Hard Candy],  [Healthy Fruit],  [Heath Bar],  [Hershey's Dark Chocolate],  [Hershey’s Milk Chocolate],  [Hershey's Kisses],  [Hugs (actual physical hugs)],  [Jolly Rancher (bad flavor)],  [Jolly Ranchers (good flavor)],  [JoyJoy (Mit Iodine!)],  [Junior Mints],  [Senior Mints],  [Kale smoothie],  [Kinder Happy Hippo],  [Kit Kat],  [LaffyTaffy],  [LemonHeads],  [Licorice (not black)],  [Licorice (yes black)],  [Lindt Truffle],  [Lollipops],  [Mars],  [Mary Janes],  [Maynards],  [Mike and Ike],  [Milk Duds],  [Milky Way],  [Regular M&Ms],  [Peanut M&M’s],  [Blue M&M's],  [Red M&M's],  [Third Party M&M's],  [Minibags of chips],  [Mint Kisses],  [Mint Juleps],  [Mr. Goodbar],  [Necco Wafers],  [Nerds],  [Nestle Crunch],  [Now'n'Laters],  [Peeps],  [Pencils],  [Person of Interest Season 3 DVD Box Set (not including Disc 4 with hilarious outtakes)],  [Pixy Stix],  [Reese’s Peanut Butter Cups],  [Reese's Pieces],  [Reggie Jackson Bar],  [Rolos],  [Skittles],  [Smarties (American)],  [Smarties (Commonwealth)],  [Snickers],  [Sourpatch Kids (i.e. abominations of nature)],  [Spotted Dick],  [Starburst],  [Sweet Tarts],  [Swedish Fish],  [Sweetums (a friend to diabetes)],  [Tic Tacs],  [Those odd marshmallow circus peanut things],  [Three Musketeers],  [Tolberone something or other],  [Trail Mix],  [Twix], ...]\n",
       "Index: []\n",
       "\n",
       "[0 rows x 123 columns]"
      ]
     },
     "execution_count": 133,
     "metadata": {},
     "output_type": "execute_result"
    }
   ],
   "source": [
    "Boing_2016_Survey_df.iloc[2:3, [1, 2]] = np.nan # Add a few NA values\n",
    "Boing_2016_Survey_df"
   ]
  },
  {
   "cell_type": "markdown",
   "metadata": {},
   "source": [
    "## Grouping with Functions"
   ]
  },
  {
   "cell_type": "code",
   "execution_count": 134,
   "metadata": {},
   "outputs": [
    {
     "data": {
      "text/plain": [
       "Internal ID                 0\n",
       "Q1: GOING OUT?              0\n",
       "Q2: GENDER                  0\n",
       "Q3: AGE                     0\n",
       "Q4: COUNTRY                 0\n",
       "                           ..\n",
       "Q12: MEDIA [Daily Dish]     0\n",
       "Q12: MEDIA [Science]        0\n",
       "Q12: MEDIA [ESPN]           0\n",
       "Q12: MEDIA [Yahoo]          0\n",
       "Click Coordinates (x, y)    0\n",
       "Length: 120, dtype: int64"
      ]
     },
     "execution_count": 134,
     "metadata": {},
     "output_type": "execute_result"
    }
   ],
   "source": [
    "Boing_2015_Survey_df.isnull().sum()\n",
    "Boing_2016_Survey_df.isnull().sum()\n",
    "Boing_2017_Survey_df.isnull().sum()"
   ]
  },
  {
   "cell_type": "code",
   "execution_count": 135,
   "metadata": {},
   "outputs": [
    {
     "data": {
      "text/html": [
       "<div>\n",
       "<style scoped>\n",
       "    .dataframe tbody tr th:only-of-type {\n",
       "        vertical-align: middle;\n",
       "    }\n",
       "\n",
       "    .dataframe tbody tr th {\n",
       "        vertical-align: top;\n",
       "    }\n",
       "\n",
       "    .dataframe thead th {\n",
       "        text-align: right;\n",
       "    }\n",
       "</style>\n",
       "<table border=\"1\" class=\"dataframe\">\n",
       "  <thead>\n",
       "    <tr style=\"text-align: right;\">\n",
       "      <th></th>\n",
       "      <th>[York Peppermint Patties] Ignore</th>\n",
       "    </tr>\n",
       "    <tr>\n",
       "      <th>How old are you?</th>\n",
       "      <th></th>\n",
       "    </tr>\n",
       "  </thead>\n",
       "  <tbody>\n",
       "  </tbody>\n",
       "</table>\n",
       "</div>"
      ],
      "text/plain": [
       "Empty DataFrame\n",
       "Columns: [ [York Peppermint Patties] Ignore]\n",
       "Index: []"
      ]
     },
     "execution_count": 135,
     "metadata": {},
     "output_type": "execute_result"
    }
   ],
   "source": [
    "Boing_2016_Survey_df.groupby(Boing_2016_Survey_df[\"How old are you?\"]).sum()"
   ]
  },
  {
   "cell_type": "code",
   "execution_count": 136,
   "metadata": {},
   "outputs": [
    {
     "data": {
      "text/plain": [
       "<pandas.core.groupby.generic.DataFrameGroupBy object at 0x000001BE4F5868B0>"
      ]
     },
     "execution_count": 136,
     "metadata": {},
     "output_type": "execute_result"
    }
   ],
   "source": [
    "grouped = Boing_2016_Survey_df.groupby('How old are you?')\n",
    "grouped"
   ]
  },
  {
   "cell_type": "code",
   "execution_count": 141,
   "metadata": {},
   "outputs": [],
   "source": [
    "df_hw_old = df.groupby('How old are you?')"
   ]
  },
  {
   "cell_type": "code",
   "execution_count": 142,
   "metadata": {},
   "outputs": [
    {
     "data": {
      "text/plain": [
       "pandas.core.groupby.generic.DataFrameGroupBy"
      ]
     },
     "execution_count": 142,
     "metadata": {},
     "output_type": "execute_result"
    }
   ],
   "source": [
    "type(df_hw_old)"
   ]
  },
  {
   "cell_type": "code",
   "execution_count": 143,
   "metadata": {},
   "outputs": [
    {
     "data": {
      "text/html": [
       "<div>\n",
       "<style scoped>\n",
       "    .dataframe tbody tr th:only-of-type {\n",
       "        vertical-align: middle;\n",
       "    }\n",
       "\n",
       "    .dataframe tbody tr th {\n",
       "        vertical-align: top;\n",
       "    }\n",
       "\n",
       "    .dataframe thead tr th {\n",
       "        text-align: left;\n",
       "    }\n",
       "\n",
       "    .dataframe thead tr:last-of-type th {\n",
       "        text-align: right;\n",
       "    }\n",
       "</style>\n",
       "<table border=\"1\" class=\"dataframe\">\n",
       "  <thead>\n",
       "    <tr>\n",
       "      <th></th>\n",
       "      <th colspan=\"8\" halign=\"left\">[York Peppermint Patties] Ignore</th>\n",
       "    </tr>\n",
       "    <tr>\n",
       "      <th></th>\n",
       "      <th>count</th>\n",
       "      <th>mean</th>\n",
       "      <th>std</th>\n",
       "      <th>min</th>\n",
       "      <th>25%</th>\n",
       "      <th>50%</th>\n",
       "      <th>75%</th>\n",
       "      <th>max</th>\n",
       "    </tr>\n",
       "    <tr>\n",
       "      <th>How old are you?</th>\n",
       "      <th></th>\n",
       "      <th></th>\n",
       "      <th></th>\n",
       "      <th></th>\n",
       "      <th></th>\n",
       "      <th></th>\n",
       "      <th></th>\n",
       "      <th></th>\n",
       "    </tr>\n",
       "  </thead>\n",
       "  <tbody>\n",
       "    <tr>\n",
       "      <th>7</th>\n",
       "      <td>0.0</td>\n",
       "      <td>NaN</td>\n",
       "      <td>NaN</td>\n",
       "      <td>NaN</td>\n",
       "      <td>NaN</td>\n",
       "      <td>NaN</td>\n",
       "      <td>NaN</td>\n",
       "      <td>NaN</td>\n",
       "    </tr>\n",
       "    <tr>\n",
       "      <th>10</th>\n",
       "      <td>0.0</td>\n",
       "      <td>NaN</td>\n",
       "      <td>NaN</td>\n",
       "      <td>NaN</td>\n",
       "      <td>NaN</td>\n",
       "      <td>NaN</td>\n",
       "      <td>NaN</td>\n",
       "      <td>NaN</td>\n",
       "    </tr>\n",
       "    <tr>\n",
       "      <th>11</th>\n",
       "      <td>0.0</td>\n",
       "      <td>NaN</td>\n",
       "      <td>NaN</td>\n",
       "      <td>NaN</td>\n",
       "      <td>NaN</td>\n",
       "      <td>NaN</td>\n",
       "      <td>NaN</td>\n",
       "      <td>NaN</td>\n",
       "    </tr>\n",
       "    <tr>\n",
       "      <th>12</th>\n",
       "      <td>0.0</td>\n",
       "      <td>NaN</td>\n",
       "      <td>NaN</td>\n",
       "      <td>NaN</td>\n",
       "      <td>NaN</td>\n",
       "      <td>NaN</td>\n",
       "      <td>NaN</td>\n",
       "      <td>NaN</td>\n",
       "    </tr>\n",
       "    <tr>\n",
       "      <th>13</th>\n",
       "      <td>0.0</td>\n",
       "      <td>NaN</td>\n",
       "      <td>NaN</td>\n",
       "      <td>NaN</td>\n",
       "      <td>NaN</td>\n",
       "      <td>NaN</td>\n",
       "      <td>NaN</td>\n",
       "      <td>NaN</td>\n",
       "    </tr>\n",
       "  </tbody>\n",
       "</table>\n",
       "</div>"
      ],
      "text/plain": [
       "                  [York Peppermint Patties] Ignore                           \\\n",
       "                                             count mean std min 25% 50% 75%   \n",
       "How old are you?                                                              \n",
       "7                                              0.0  NaN NaN NaN NaN NaN NaN   \n",
       "10                                             0.0  NaN NaN NaN NaN NaN NaN   \n",
       "11                                             0.0  NaN NaN NaN NaN NaN NaN   \n",
       "12                                             0.0  NaN NaN NaN NaN NaN NaN   \n",
       "13                                             0.0  NaN NaN NaN NaN NaN NaN   \n",
       "\n",
       "                      \n",
       "                 max  \n",
       "How old are you?      \n",
       "7                NaN  \n",
       "10               NaN  \n",
       "11               NaN  \n",
       "12               NaN  \n",
       "13               NaN  "
      ]
     },
     "execution_count": 143,
     "metadata": {},
     "output_type": "execute_result"
    }
   ],
   "source": [
    "df_hw_old.describe().head()"
   ]
  },
  {
   "cell_type": "code",
   "execution_count": 144,
   "metadata": {},
   "outputs": [],
   "source": [
    "df_hw_old = df_hw_old.median()"
   ]
  },
  {
   "cell_type": "code",
   "execution_count": 145,
   "metadata": {},
   "outputs": [
    {
     "name": "stdout",
     "output_type": "stream",
     "text": [
      "Index([                                                    7,\n",
      "                                                          10,\n",
      "                                                          11,\n",
      "                                                          12,\n",
      "                                                          13,\n",
      "                                                          14,\n",
      "                                                          15,\n",
      "                                                          16,\n",
      "                                                          17,\n",
      "                                                          18,\n",
      "                                                          19,\n",
      "                                                          20,\n",
      "                                                          21,\n",
      "                                                          22,\n",
      "                                                          23,\n",
      "                                                        23.2,\n",
      "                                                          24,\n",
      "                                                          25,\n",
      "                                                          26,\n",
      "                                                          27,\n",
      "                                                          28,\n",
      "                                                          29,\n",
      "                                                          30,\n",
      "                                                          31,\n",
      "                                                          32,\n",
      "                                                          33,\n",
      "                                                          34,\n",
      "                                                          35,\n",
      "                                                          36,\n",
      "                                                          37,\n",
      "                                                          38,\n",
      "                                                          39,\n",
      "                                                          40,\n",
      "                                                          41,\n",
      "                                                          42,\n",
      "                                                          43,\n",
      "                                                          44,\n",
      "                                                          45,\n",
      "                                                          46,\n",
      "                                                          47,\n",
      "                                                          48,\n",
      "                                                          49,\n",
      "                                                          50,\n",
      "                                                          51,\n",
      "                                                          52,\n",
      "                                                          53,\n",
      "                                                          54,\n",
      "                                                          55,\n",
      "                                                          56,\n",
      "                                                          57,\n",
      "                                                          58,\n",
      "                                                          59,\n",
      "                                                          60,\n",
      "                                                          61,\n",
      "                                                          62,\n",
      "                                                          63,\n",
      "                                                          64,\n",
      "                                                          65,\n",
      "                                                          66,\n",
      "                                                          67,\n",
      "                                                          68,\n",
      "                                                          70,\n",
      "                                                          71,\n",
      "                                                          74,\n",
      "                                                          78,\n",
      "                                                          79,\n",
      "                                                          81,\n",
      "                                                          82,\n",
      "                                                         142,\n",
      "                                         1000000000000000000,\n",
      "                                                      '0x2A',\n",
      "                                               '49 11/12ths',\n",
      "                                                       '50+',\n",
      "                                                       '50s',\n",
      "                                                       '55+',\n",
      "                                                   'Ancient',\n",
      "       'As old as my tongue a few years older than my teeth',\n",
      "                                       'Fifty.  Nine.  Ish.',\n",
      "                                              'Hahahahahaha',\n",
      "                       'I remember the Nixon administration',\n",
      "                          'Never ask a woman that question.',\n",
      "                                      'Not as old as you...',\n",
      "                                                       'Old',\n",
      "                                                'Old enough',\n",
      "                                'Old enough to know better ',\n",
      "                         'Old enough to not Trick or Treat.',\n",
      "                                          'Older than i act',\n",
      "                                           'Same as yo mama',\n",
      "         'Too old to trick or treat without it being creepy',\n",
      "                                                   'ancient',\n",
      "                                                      'blah',\n",
      "                                                       'old',\n",
      "                                                      'old ',\n",
      "                                                'old enough',\n",
      "                                   'older than I want to be',\n",
      "                                                   'over 40',\n",
      "                                       'over retirement age',\n",
      "                                                'really old'],\n",
      "      dtype='object', name='How old are you?')\n"
     ]
    }
   ],
   "source": [
    "print(df_hw_old.index)"
   ]
  },
  {
   "cell_type": "markdown",
   "metadata": {},
   "source": [
    "# Time Series"
   ]
  },
  {
   "cell_type": "code",
   "execution_count": 147,
   "metadata": {},
   "outputs": [
    {
     "data": {
      "text/plain": [
       "(2021, 2, 11)"
      ]
     },
     "execution_count": 147,
     "metadata": {},
     "output_type": "execute_result"
    }
   ],
   "source": [
    "now = datetime.now()\n",
    "now\n",
    "now.year, now.month, now.day"
   ]
  },
  {
   "cell_type": "code",
   "execution_count": 149,
   "metadata": {},
   "outputs": [
    {
     "data": {
      "text/plain": [
       "'2021-02-11'"
      ]
     },
     "execution_count": 149,
     "metadata": {},
     "output_type": "execute_result"
    }
   ],
   "source": [
    "stamp = datetime(2021, 2, 11)\n",
    "str(stamp)\n",
    "stamp.strftime('%Y-%m-%d')"
   ]
  },
  {
   "cell_type": "code",
   "execution_count": 152,
   "metadata": {},
   "outputs": [
    {
     "data": {
      "text/plain": [
       "datetime.datetime(2021, 2, 11, 0, 0)"
      ]
     },
     "execution_count": 152,
     "metadata": {},
     "output_type": "execute_result"
    }
   ],
   "source": [
    "parse('2021-02-11')"
   ]
  },
  {
   "cell_type": "code",
   "execution_count": 153,
   "metadata": {},
   "outputs": [
    {
     "data": {
      "text/plain": [
       "datetime.datetime(2021, 2, 11, 22, 45)"
      ]
     },
     "execution_count": 153,
     "metadata": {},
     "output_type": "execute_result"
    }
   ],
   "source": [
    "parse('Feb 11, 2021 10:45 PM')"
   ]
  },
  {
   "cell_type": "markdown",
   "metadata": {},
   "source": [
    "## Generating Date Ranges"
   ]
  },
  {
   "cell_type": "code",
   "execution_count": 154,
   "metadata": {},
   "outputs": [
    {
     "data": {
      "text/plain": [
       "DatetimeIndex(['2021-02-01', '2021-02-02'], dtype='datetime64[ns]', freq='D')"
      ]
     },
     "execution_count": 154,
     "metadata": {},
     "output_type": "execute_result"
    }
   ],
   "source": [
    "index = pd.date_range('2021-02-01', '2021-02-02')\n",
    "index"
   ]
  },
  {
   "cell_type": "code",
   "execution_count": 155,
   "metadata": {},
   "outputs": [
    {
     "data": {
      "text/plain": [
       "DatetimeIndex(['2021-01-14', '2021-01-15', '2021-01-16', '2021-01-17',\n",
       "               '2021-01-18', '2021-01-19', '2021-01-20', '2021-01-21',\n",
       "               '2021-01-22', '2021-01-23', '2021-01-24', '2021-01-25',\n",
       "               '2021-01-26', '2021-01-27', '2021-01-28', '2021-01-29',\n",
       "               '2021-01-30', '2021-01-31', '2021-02-01', '2021-02-02'],\n",
       "              dtype='datetime64[ns]', freq='D')"
      ]
     },
     "execution_count": 155,
     "metadata": {},
     "output_type": "execute_result"
    }
   ],
   "source": [
    "pd.date_range(start='2021-02-01', periods=20)\n",
    "pd.date_range(end='2021-02-02', periods=20)"
   ]
  },
  {
   "cell_type": "code",
   "execution_count": 156,
   "metadata": {},
   "outputs": [
    {
     "data": {
      "text/plain": [
       "DatetimeIndex(['2021-02-02', '2021-02-03', '2021-02-04', '2021-02-05',\n",
       "               '2021-02-06'],\n",
       "              dtype='datetime64[ns]', freq='D')"
      ]
     },
     "execution_count": 156,
     "metadata": {},
     "output_type": "execute_result"
    }
   ],
   "source": [
    "pd.date_range('2021-02-02 12:56:31', periods=5, normalize=True)"
   ]
  },
  {
   "cell_type": "markdown",
   "metadata": {},
   "source": [
    "### Frequencies and Date Offsets"
   ]
  },
  {
   "cell_type": "code",
   "execution_count": 157,
   "metadata": {},
   "outputs": [
    {
     "data": {
      "text/plain": [
       "<Hour>"
      ]
     },
     "execution_count": 157,
     "metadata": {},
     "output_type": "execute_result"
    }
   ],
   "source": [
    "hour = Hour()\n",
    "hour"
   ]
  },
  {
   "cell_type": "code",
   "execution_count": 158,
   "metadata": {},
   "outputs": [
    {
     "data": {
      "text/plain": [
       "<4 * Hours>"
      ]
     },
     "execution_count": 158,
     "metadata": {},
     "output_type": "execute_result"
    }
   ],
   "source": [
    "four_hours = Hour(4)\n",
    "four_hours"
   ]
  },
  {
   "cell_type": "code",
   "execution_count": 159,
   "metadata": {},
   "outputs": [
    {
     "data": {
      "text/plain": [
       "DatetimeIndex(['2021-02-01 00:00:00', '2021-02-01 04:00:00',\n",
       "               '2021-02-01 08:00:00', '2021-02-01 12:00:00',\n",
       "               '2021-02-01 16:00:00', '2021-02-01 20:00:00',\n",
       "               '2021-02-02 00:00:00', '2021-02-02 04:00:00',\n",
       "               '2021-02-02 08:00:00', '2021-02-02 12:00:00',\n",
       "               '2021-02-02 16:00:00', '2021-02-02 20:00:00',\n",
       "               '2021-02-03 00:00:00', '2021-02-03 04:00:00',\n",
       "               '2021-02-03 08:00:00', '2021-02-03 12:00:00',\n",
       "               '2021-02-03 16:00:00', '2021-02-03 20:00:00'],\n",
       "              dtype='datetime64[ns]', freq='4H')"
      ]
     },
     "execution_count": 159,
     "metadata": {},
     "output_type": "execute_result"
    }
   ],
   "source": [
    "pd.date_range('2021-02-01', '2021-02-03 23:59', freq='4h')"
   ]
  },
  {
   "cell_type": "code",
   "execution_count": 160,
   "metadata": {},
   "outputs": [
    {
     "data": {
      "text/plain": [
       "[]"
      ]
     },
     "execution_count": 160,
     "metadata": {},
     "output_type": "execute_result"
    }
   ],
   "source": [
    "rng = pd.date_range('2021-02-01', '2021-02-03', freq='WOM-3FRI')\n",
    "list(rng)"
   ]
  },
  {
   "cell_type": "code",
   "execution_count": 161,
   "metadata": {},
   "outputs": [
    {
     "data": {
      "text/plain": [
       "2021-02-28   -0.526122\n",
       "2021-03-31   -0.236507\n",
       "2021-04-30         NaN\n",
       "2021-05-31         NaN\n",
       "Freq: M, dtype: float64"
      ]
     },
     "execution_count": 161,
     "metadata": {},
     "output_type": "execute_result"
    }
   ],
   "source": [
    "ts = pd.Series(np.random.randn(4),\n",
    "               index=pd.date_range('2/1/2021', periods=4, freq='M'))\n",
    "ts\n",
    "ts.shift(2)\n",
    "ts.shift(-2)"
   ]
  },
  {
   "cell_type": "markdown",
   "metadata": {},
   "source": [
    "## Period Frequency Conversion"
   ]
  },
  {
   "cell_type": "code",
   "execution_count": 162,
   "metadata": {},
   "outputs": [
    {
     "data": {
      "text/plain": [
       "Period('2021-12', 'M')"
      ]
     },
     "execution_count": 162,
     "metadata": {},
     "output_type": "execute_result"
    }
   ],
   "source": [
    "p = pd.Period('2021', freq='A-DEC')\n",
    "p\n",
    "p.asfreq('M', how='start')\n",
    "p.asfreq('M', how='end')"
   ]
  },
  {
   "cell_type": "code",
   "execution_count": 163,
   "metadata": {},
   "outputs": [
    {
     "data": {
      "text/plain": [
       "Period('2021-06', 'M')"
      ]
     },
     "execution_count": 163,
     "metadata": {},
     "output_type": "execute_result"
    }
   ],
   "source": [
    "p = pd.Period('2021', freq='A-JUN')\n",
    "p\n",
    "p.asfreq('M', 'start')\n",
    "p.asfreq('M', 'end')"
   ]
  },
  {
   "cell_type": "code",
   "execution_count": 164,
   "metadata": {},
   "outputs": [
    {
     "data": {
      "text/plain": [
       "2019-01   -0.151014\n",
       "2020-01   -0.358599\n",
       "2021-01   -1.031643\n",
       "Freq: M, dtype: float64"
      ]
     },
     "execution_count": 164,
     "metadata": {},
     "output_type": "execute_result"
    }
   ],
   "source": [
    "rng = pd.period_range('2019', '2021', freq='A-DEC')\n",
    "ts = pd.Series(np.random.randn(len(rng)), index=rng)\n",
    "ts\n",
    "ts.asfreq('M', how='start')"
   ]
  },
  {
   "cell_type": "markdown",
   "metadata": {},
   "source": [
    "## Quarterly Period Frequencies"
   ]
  },
  {
   "cell_type": "code",
   "execution_count": 165,
   "metadata": {},
   "outputs": [
    {
     "data": {
      "text/plain": [
       "Period('2012Q4', 'Q-JAN')"
      ]
     },
     "execution_count": 165,
     "metadata": {},
     "output_type": "execute_result"
    }
   ],
   "source": [
    "p = pd.Period('2012Q4', freq='Q-JAN')\n",
    "p"
   ]
  },
  {
   "cell_type": "code",
   "execution_count": 166,
   "metadata": {},
   "outputs": [
    {
     "data": {
      "text/plain": [
       "Period('2012-01-31', 'D')"
      ]
     },
     "execution_count": 166,
     "metadata": {},
     "output_type": "execute_result"
    }
   ],
   "source": [
    "p.asfreq('D', 'start')\n",
    "p.asfreq('D', 'end')"
   ]
  },
  {
   "cell_type": "code",
   "execution_count": 167,
   "metadata": {},
   "outputs": [
    {
     "data": {
      "text/plain": [
       "Timestamp('2012-01-30 16:00:00')"
      ]
     },
     "execution_count": 167,
     "metadata": {},
     "output_type": "execute_result"
    }
   ],
   "source": [
    "p4pm = (p.asfreq('B', 'e') - 1).asfreq('T', 's') + 16 * 60\n",
    "p4pm\n",
    "p4pm.to_timestamp()"
   ]
  },
  {
   "cell_type": "markdown",
   "metadata": {},
   "source": [
    "### Converting Timestamps to Periods (and Back)"
   ]
  },
  {
   "cell_type": "code",
   "execution_count": 168,
   "metadata": {},
   "outputs": [
    {
     "data": {
      "text/plain": [
       "2021-02    0.294588\n",
       "2021-03   -2.501880\n",
       "2021-04   -0.017215\n",
       "Freq: M, dtype: float64"
      ]
     },
     "execution_count": 168,
     "metadata": {},
     "output_type": "execute_result"
    }
   ],
   "source": [
    "rng = pd.date_range('2021-02-01', periods=3, freq='M')\n",
    "ts = pd.Series(np.random.randn(3), index=rng)\n",
    "ts\n",
    "pts = ts.to_period()\n",
    "pts"
   ]
  },
  {
   "cell_type": "code",
   "execution_count": 169,
   "metadata": {},
   "outputs": [
    {
     "data": {
      "text/plain": [
       "2021-01    2.157484\n",
       "2021-01    1.016681\n",
       "2021-01   -2.348418\n",
       "2021-02    0.482781\n",
       "2021-02   -0.479597\n",
       "2021-02   -0.866559\n",
       "Freq: M, dtype: float64"
      ]
     },
     "execution_count": 169,
     "metadata": {},
     "output_type": "execute_result"
    }
   ],
   "source": [
    "rng = pd.date_range('1/29/2021', periods=6, freq='D')\n",
    "ts2 = pd.Series(np.random.randn(6), index=rng)\n",
    "ts2\n",
    "ts2.to_period('M')"
   ]
  },
  {
   "cell_type": "code",
   "execution_count": 171,
   "metadata": {},
   "outputs": [
    {
     "data": {
      "text/plain": [
       "2021-01-29 23:59:59.999999999    2.157484\n",
       "2021-01-30 23:59:59.999999999    1.016681\n",
       "2021-01-31 23:59:59.999999999   -2.348418\n",
       "2021-02-01 23:59:59.999999999    0.482781\n",
       "2021-02-02 23:59:59.999999999   -0.479597\n",
       "2021-02-03 23:59:59.999999999   -0.866559\n",
       "Freq: D, dtype: float64"
      ]
     },
     "execution_count": 171,
     "metadata": {},
     "output_type": "execute_result"
    }
   ],
   "source": [
    "pts = ts2.to_period()\n",
    "pts\n",
    "pts.to_timestamp(how='end')"
   ]
  },
  {
   "cell_type": "code",
   "execution_count": null,
   "metadata": {},
   "outputs": [],
   "source": []
  }
 ],
 "metadata": {
  "kernelspec": {
   "display_name": "Python 3",
   "language": "python",
   "name": "python3"
  },
  "language_info": {
   "codemirror_mode": {
    "name": "ipython",
    "version": 3
   },
   "file_extension": ".py",
   "mimetype": "text/x-python",
   "name": "python",
   "nbconvert_exporter": "python",
   "pygments_lexer": "ipython3",
   "version": "3.8.3"
  }
 },
 "nbformat": 4,
 "nbformat_minor": 4
}
