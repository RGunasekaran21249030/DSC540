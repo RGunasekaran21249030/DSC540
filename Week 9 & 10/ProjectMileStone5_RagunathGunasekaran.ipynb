{
 "cells": [
  {
   "cell_type": "markdown",
   "metadata": {},
   "source": [
    "#  Indicators of World Development and COVID19 Impacts"
   ]
  },
  {
   "cell_type": "markdown",
   "metadata": {},
   "source": [
    "##  The aim of the Project is to analysis to answer interesting questions about the world development indicators and COVID19 Impacts dataset that was provided by the World Bank and"
   ]
  },
  {
   "cell_type": "markdown",
   "metadata": {},
   "source": [
    "###  Loading libraries"
   ]
  },
  {
   "cell_type": "code",
   "execution_count": 22,
   "metadata": {},
   "outputs": [],
   "source": [
    "import numpy as np\n",
    "import pandas as pd\n",
    "import matplotlib.pyplot as plt\n",
    "import seaborn as sns\n",
    "sns.set()\n",
    "\n",
    "from fuzzywuzzy import fuzz\n",
    "from fuzzywuzzy import process\n",
    "\n",
    "from scipy import stats\n",
    "import numpy as np\n",
    "\n",
    "from datetime import datetime\n",
    "from dateutil.parser import parse\n",
    "from pandas.tseries.offsets import Hour, Minute\n",
    "\n",
    "\n",
    "# generate gaussian data\n",
    "from numpy.random import seed\n",
    "from numpy.random import randn\n",
    "from numpy import mean\n",
    "from numpy import std\n",
    "\n",
    "import urllib.request, urllib.parse\n",
    "from urllib.error import HTTPError,URLError\n",
    "import pandas as pd\n",
    "import json"
   ]
  },
  {
   "cell_type": "markdown",
   "metadata": {},
   "source": [
    "### Initial Data Analysis EDA"
   ]
  },
  {
   "cell_type": "markdown",
   "metadata": {},
   "source": [
    "#### Environment, Social And Governance Data - .csv file to Dataframe"
   ]
  },
  {
   "cell_type": "code",
   "execution_count": 2,
   "metadata": {},
   "outputs": [],
   "source": [
    "df_Country = pd.read_csv('C:/Users/ragun/Documents/GitHub/DSC540/Weeks 5 & 6/Dataset/ESG_csv/ESGCountry.csv')\n",
    "df_ESGData = pd.read_csv('C:/Users/ragun/Documents/GitHub/DSC540/Weeks 5 & 6/Dataset/ESG_csv/ESGData.csv')\n",
    "df_ESGSeriesData = pd.read_csv('C:/Users/ragun/Documents/GitHub/DSC540/Weeks 5 & 6/Dataset/ESG_csv/ESGCountry-Series.csv')"
   ]
  },
  {
   "cell_type": "markdown",
   "metadata": {},
   "source": [
    "#### Health Nutrition And Population Data - .csv file to Dataframe"
   ]
  },
  {
   "cell_type": "code",
   "execution_count": 3,
   "metadata": {},
   "outputs": [],
   "source": [
    "df_HNPQData = pd.read_csv('C:/Users/ragun/Documents/GitHub/DSC540/Weeks 5 & 6/Dataset/hnpq_csv/HNPQData.csv')\n",
    "df_HNPQSeriesData = pd.read_csv('C:/Users/ragun/Documents/GitHub/DSC540/Weeks 5 & 6/Dataset/hnpq_csv/HNPQSeries.csv')"
   ]
  },
  {
   "cell_type": "markdown",
   "metadata": {},
   "source": [
    "#### COVID19 Impact on Daily Life - .csv file to Dataframe"
   ]
  },
  {
   "cell_type": "code",
   "execution_count": 4,
   "metadata": {},
   "outputs": [
    {
     "name": "stderr",
     "output_type": "stream",
     "text": [
      "C:\\Users\\ragun\\anaconda3\\lib\\site-packages\\IPython\\core\\interactiveshell.py:3155: DtypeWarning: Columns (4,5) have mixed types.Specify dtype option on import or set low_memory=False.\n",
      "  has_raised = await self.run_ast_nodes(code_ast.body, cell_name,\n"
     ]
    }
   ],
   "source": [
    "df_COVIDData = pd.read_csv('C:/Users/ragun/Documents/GitHub/DSC540/Weeks 5 & 6/Dataset/COVID19 Impact/Global_Mobility_Report.csv')"
   ]
  },
  {
   "cell_type": "code",
   "execution_count": 5,
   "metadata": {},
   "outputs": [],
   "source": [
    "#df_Country.describe\n",
    "#df_Country.head(5)\n",
    "\n",
    "#df_ESGData.describe\n",
    "#df_ESGData.head(5)\n",
    "\n",
    "#df_HNPQData.describe\n",
    "#df_HNPQData.head(5)"
   ]
  },
  {
   "cell_type": "markdown",
   "metadata": {},
   "source": [
    "## Data Transfer and Clean Up - Country Dataset"
   ]
  },
  {
   "cell_type": "code",
   "execution_count": 6,
   "metadata": {},
   "outputs": [
    {
     "name": "stdout",
     "output_type": "stream",
     "text": [
      "Country Name is duplictaed - False\n",
      "Country Name contains NaN - False \n"
     ]
    }
   ],
   "source": [
    "# Renaming the Columns\n",
    "mapping = {'Country Code':'country_code', 'Short Name':'Country', 'Table Name':'Country_Name', 'Long Name':'Country_FullName'}\n",
    "df_Country.rename(columns=mapping, inplace=True)\n",
    "\n",
    "# Dropping few unwanted columns\n",
    "df_Country.drop(columns='Special Notes', inplace=True)\n",
    "df_Country.drop(columns='System of trade', inplace=True)\n",
    "\n",
    "# Removing the data with NA data\n",
    "df_Country.Country.dropna()\n",
    "\n",
    "#Replacing Nan values wiht No Data\n",
    "df_Country['Latest population census'].fillna('No Data')\n",
    "\n",
    "# Verifying if any duplicates, null available in the dataset\n",
    "print(\"Country Name is duplictaed - {}\".format(any(df_Country.Country.duplicated())))\n",
    "print(\"Country Name contains NaN - %r \" % df_Country.Country.isnull().values.any())\n"
   ]
  },
  {
   "cell_type": "markdown",
   "metadata": {},
   "source": [
    "### Fuzzy Matching on the County and Country Full Name"
   ]
  },
  {
   "cell_type": "code",
   "execution_count": 7,
   "metadata": {},
   "outputs": [],
   "source": [
    "def checker(wrong_options,correct_options):\n",
    "    names_array=[]\n",
    "    ratio_array=[]    \n",
    "    for wrong_option in wrong_options:\n",
    "        if wrong_option in correct_options:\n",
    "           names_array.append(wrong_option)\n",
    "           ratio_array.append('100')\n",
    "        else:   \n",
    "            x=process.extractOne(wrong_option,correct_options,scorer=fuzz.token_set_ratio)\n",
    "            names_array.append(x[0])\n",
    "            ratio_array.append(x[1])\n",
    "    return names_array,ratio_array"
   ]
  },
  {
   "cell_type": "code",
   "execution_count": 25,
   "metadata": {},
   "outputs": [],
   "source": [
    "str2Match = df_Country['Country'].fillna('######').all()\n",
    "strOptions = df_Country['Country_FullName'].fillna('######').all()\n",
    "\n",
    "name_match,ratio_match=checker(str2Match,strOptions)"
   ]
  },
  {
   "cell_type": "code",
   "execution_count": 26,
   "metadata": {},
   "outputs": [
    {
     "data": {
      "text/plain": [
       "57"
      ]
     },
     "execution_count": 26,
     "metadata": {},
     "output_type": "execute_result"
    }
   ],
   "source": [
    "fuzz.ratio(str2Match,strOptions)"
   ]
  },
  {
   "cell_type": "markdown",
   "metadata": {},
   "source": [
    "### identifying the outliers"
   ]
  },
  {
   "cell_type": "code",
   "execution_count": 27,
   "metadata": {},
   "outputs": [
    {
     "name": "stdout",
     "output_type": "stream",
     "text": [
      "National accounts reference year     5.0\n",
      "PPP survey year                      NaN\n",
      "Latest industrial data              11.0\n",
      "Latest trade data                    0.0\n",
      "Unnamed: 30                          NaN\n",
      "dtype: float64\n"
     ]
    }
   ],
   "source": [
    "Q1 = df_Country.quantile(0.25)\n",
    "Q3 = df_Country.quantile(0.75)\n",
    "IQR = Q3 - Q1\n",
    "print(IQR)\n",
    "#print(df_Country < (Q1 - 1.5 * IQR)) |(df_Country > (Q3 + 1.5 * IQR))"
   ]
  },
  {
   "cell_type": "markdown",
   "metadata": {},
   "source": [
    "## Data Transfer and Clean Up - Environment, Social And Governance Data"
   ]
  },
  {
   "cell_type": "code",
   "execution_count": 28,
   "metadata": {},
   "outputs": [
    {
     "name": "stdout",
     "output_type": "stream",
     "text": [
      "Country Name is duplictaed - True\n",
      "Country Name contains NaN - True \n"
     ]
    }
   ],
   "source": [
    "# Renaming the Columns\n",
    "mapping = {'Country Code':'country_code', 'Indicator Code':'Indicator', 'Country Name':'Country_Name', \n",
    "           '2019':'PreviousYear', '2020':'CurrentYear'}\n",
    "df_ESGData.rename(columns=mapping, inplace=True) \n",
    "\n",
    "# Dropping few unwanted columns\n",
    "df_ESGData.drop(columns =['1960', '1961', '1962', '1963', '1964', '1965', '1966', '1967', '1968', '1969']) \n",
    "\n",
    "# Removing the data with NA data\n",
    "df_ESGData.Country_Name.dropna()\n",
    "\n",
    "#Replacing Nan values wiht No Data\n",
    "df_ESGData['CurrentYear'].fillna('No Data')\n",
    "df_ESGData['PreviousYear'].fillna('No Data')\n",
    "\n",
    "# Verifying if any duplicates, null available in the dataset\n",
    "print(\"Country Name is duplictaed - {}\".format(any(df_ESGData.Indicator.duplicated())))\n",
    "print(\"Country Name contains NaN - %r \" % df_ESGData.isnull().values.any())\n",
    " \n",
    "\n"
   ]
  },
  {
   "cell_type": "code",
   "execution_count": 29,
   "metadata": {},
   "outputs": [
    {
     "data": {
      "text/html": [
       "<div>\n",
       "<style scoped>\n",
       "    .dataframe tbody tr th:only-of-type {\n",
       "        vertical-align: middle;\n",
       "    }\n",
       "\n",
       "    .dataframe tbody tr th {\n",
       "        vertical-align: top;\n",
       "    }\n",
       "\n",
       "    .dataframe thead th {\n",
       "        text-align: right;\n",
       "    }\n",
       "</style>\n",
       "<table border=\"1\" class=\"dataframe\">\n",
       "  <thead>\n",
       "    <tr style=\"text-align: right;\">\n",
       "      <th></th>\n",
       "      <th>Country_Name</th>\n",
       "      <th>Indicator</th>\n",
       "      <th>Year</th>\n",
       "      <th>Values</th>\n",
       "    </tr>\n",
       "  </thead>\n",
       "  <tbody>\n",
       "    <tr>\n",
       "      <th>0</th>\n",
       "      <td>Arab World</td>\n",
       "      <td>EG.CFT.ACCS.ZS</td>\n",
       "      <td>country_code</td>\n",
       "      <td>ARB</td>\n",
       "    </tr>\n",
       "    <tr>\n",
       "      <th>1</th>\n",
       "      <td>Arab World</td>\n",
       "      <td>EG.ELC.ACCS.ZS</td>\n",
       "      <td>country_code</td>\n",
       "      <td>ARB</td>\n",
       "    </tr>\n",
       "    <tr>\n",
       "      <th>2</th>\n",
       "      <td>Arab World</td>\n",
       "      <td>NY.ADJ.DRES.GN.ZS</td>\n",
       "      <td>country_code</td>\n",
       "      <td>ARB</td>\n",
       "    </tr>\n",
       "    <tr>\n",
       "      <th>3</th>\n",
       "      <td>Arab World</td>\n",
       "      <td>NY.ADJ.DFOR.GN.ZS</td>\n",
       "      <td>country_code</td>\n",
       "      <td>ARB</td>\n",
       "    </tr>\n",
       "    <tr>\n",
       "      <th>4</th>\n",
       "      <td>Arab World</td>\n",
       "      <td>AG.LND.AGRI.ZS</td>\n",
       "      <td>country_code</td>\n",
       "      <td>ARB</td>\n",
       "    </tr>\n",
       "    <tr>\n",
       "      <th>...</th>\n",
       "      <td>...</td>\n",
       "      <td>...</td>\n",
       "      <td>...</td>\n",
       "      <td>...</td>\n",
       "    </tr>\n",
       "    <tr>\n",
       "      <th>1040840</th>\n",
       "      <td>Zimbabwe</td>\n",
       "      <td>IC.LGL.CRED.XQ</td>\n",
       "      <td>Unnamed: 66</td>\n",
       "      <td>NaN</td>\n",
       "    </tr>\n",
       "    <tr>\n",
       "      <th>1040841</th>\n",
       "      <td>Zimbabwe</td>\n",
       "      <td>ER.PTD.TOTL.ZS</td>\n",
       "      <td>Unnamed: 66</td>\n",
       "      <td>NaN</td>\n",
       "    </tr>\n",
       "    <tr>\n",
       "      <th>1040842</th>\n",
       "      <td>Zimbabwe</td>\n",
       "      <td>SL.UEM.TOTL.ZS</td>\n",
       "      <td>Unnamed: 66</td>\n",
       "      <td>NaN</td>\n",
       "    </tr>\n",
       "    <tr>\n",
       "      <th>1040843</th>\n",
       "      <td>Zimbabwe</td>\n",
       "      <td>SP.UWT.TFRT</td>\n",
       "      <td>Unnamed: 66</td>\n",
       "      <td>NaN</td>\n",
       "    </tr>\n",
       "    <tr>\n",
       "      <th>1040844</th>\n",
       "      <td>Zimbabwe</td>\n",
       "      <td>VA.EST</td>\n",
       "      <td>Unnamed: 66</td>\n",
       "      <td>NaN</td>\n",
       "    </tr>\n",
       "  </tbody>\n",
       "</table>\n",
       "<p>1040845 rows × 4 columns</p>\n",
       "</div>"
      ],
      "text/plain": [
       "        Country_Name          Indicator          Year Values\n",
       "0         Arab World     EG.CFT.ACCS.ZS  country_code    ARB\n",
       "1         Arab World     EG.ELC.ACCS.ZS  country_code    ARB\n",
       "2         Arab World  NY.ADJ.DRES.GN.ZS  country_code    ARB\n",
       "3         Arab World  NY.ADJ.DFOR.GN.ZS  country_code    ARB\n",
       "4         Arab World     AG.LND.AGRI.ZS  country_code    ARB\n",
       "...              ...                ...           ...    ...\n",
       "1040840     Zimbabwe     IC.LGL.CRED.XQ   Unnamed: 66    NaN\n",
       "1040841     Zimbabwe     ER.PTD.TOTL.ZS   Unnamed: 66    NaN\n",
       "1040842     Zimbabwe     SL.UEM.TOTL.ZS   Unnamed: 66    NaN\n",
       "1040843     Zimbabwe        SP.UWT.TFRT   Unnamed: 66    NaN\n",
       "1040844     Zimbabwe             VA.EST   Unnamed: 66    NaN\n",
       "\n",
       "[1040845 rows x 4 columns]"
      ]
     },
     "execution_count": 29,
     "metadata": {},
     "output_type": "execute_result"
    }
   ],
   "source": [
    "df_ESGData_unpivoted = df_ESGData.melt(['Country_Name','Indicator'], var_name='Year', value_name='Values')\n",
    "df_ESGData_unpivoted"
   ]
  },
  {
   "cell_type": "code",
   "execution_count": 30,
   "metadata": {},
   "outputs": [
    {
     "data": {
      "text/plain": [
       "EN.ATM.NOXE.PC       239\n",
       "SE.ENR.PRSC.FM.ZS    239\n",
       "SH.STA.SMSS.ZS       239\n",
       "SP.UWT.TFRT          239\n",
       "VA.EST               239\n",
       "                    ... \n",
       "EG.EGY.PRIM.PP.KD    239\n",
       "SE.ADT.LITR.ZS       239\n",
       "SN.ITK.DEFC.ZS       239\n",
       "EG.USE.COMM.FO.ZS    239\n",
       "SL.UEM.TOTL.ZS       239\n",
       "Name: Indicator, Length: 67, dtype: int64"
      ]
     },
     "execution_count": 30,
     "metadata": {},
     "output_type": "execute_result"
    }
   ],
   "source": [
    "df_ESGData.Indicator.value_counts()\n"
   ]
  },
  {
   "cell_type": "markdown",
   "metadata": {},
   "source": [
    "## Data Transfer and Clean Up - Health Nutrition And Population"
   ]
  },
  {
   "cell_type": "code",
   "execution_count": 31,
   "metadata": {},
   "outputs": [
    {
     "name": "stdout",
     "output_type": "stream",
     "text": [
      "Country Name is duplictaed - True\n",
      "Country Name contains NaN - True \n"
     ]
    }
   ],
   "source": [
    "# Renaming the Columns\n",
    "mapping = {'Country Code':'country_code', 'Indicator Code':'Indicator', 'Country Name':'Country_Name', \n",
    "           '2019':'PreviousYear', '2020':'CurrentYear'}\n",
    "df_HNPQData.rename(columns=mapping, inplace=True) \n",
    "\n",
    "# Dropping few unwanted columns\n",
    "df_HNPQData.drop(columns =['1990', '1991', '1992', '1993', '1994', '1995', '1996', '1997', '1998', '1999']) \n",
    "\n",
    "# Removing the data with NA data\n",
    "df_HNPQData.Country_Name.dropna()\n",
    "\n",
    "#Replacing Nan values wiht No Data\n",
    "df_HNPQData['CurrentYear'].fillna('No Data')\n",
    "df_HNPQData['PreviousYear'].fillna('No Data')\n",
    "\n",
    "# Verifying if any duplicates, null available in the dataset\n",
    "print(\"Country Name is duplictaed - {}\".format(any(df_HNPQData.Indicator.duplicated())))\n",
    "print(\"Country Name contains NaN - %r \" % df_HNPQData.isnull().values.any())"
   ]
  },
  {
   "cell_type": "code",
   "execution_count": 32,
   "metadata": {},
   "outputs": [
    {
     "data": {
      "text/plain": [
       "SH.STA.MLN3.Q3.ZS    217\n",
       "SH.STA.STN3.Q1.ZS    217\n",
       "SH.FPL.ACPT.Q4.ZS    217\n",
       "SP.UWT.TFRT.Q5.ZS    217\n",
       "SP.DYN.WFRT.Q2       217\n",
       "                    ... \n",
       "SH.FPL.MBRI.Q5       217\n",
       "SH.STA.ANCP.Q4.ZS    217\n",
       "SP.MTR.1519.Q1.ZS    217\n",
       "SH.STA.ARIC.Q1.ZS    217\n",
       "SH.STA.STN3.Q5.ZS    217\n",
       "Name: Indicator, Length: 420, dtype: int64"
      ]
     },
     "execution_count": 32,
     "metadata": {},
     "output_type": "execute_result"
    }
   ],
   "source": [
    "df_HNPQData.Indicator.value_counts()"
   ]
  },
  {
   "cell_type": "markdown",
   "metadata": {},
   "source": [
    "## Data Transfer and Clean Up - COVID19"
   ]
  },
  {
   "cell_type": "code",
   "execution_count": 33,
   "metadata": {},
   "outputs": [
    {
     "name": "stdout",
     "output_type": "stream",
     "text": [
      "Country Name is duplictaed - True\n",
      "Country Name contains NaN - True \n"
     ]
    }
   ],
   "source": [
    "# Renaming the Columns\n",
    "mapping = {'country_region':'Country_Name', \n",
    "           }\n",
    "df_COVIDData.rename(columns=mapping, inplace=True) \n",
    "\n",
    "# Dropping few unwanted columns\n",
    "df_COVIDData.drop(columns =['iso_3166_2_code','census_fips_code']) \n",
    "\n",
    "# Removing the data with NA data\n",
    "df_COVIDData.Country_Name.dropna()\n",
    "\n",
    "\n",
    "# Verifying if any duplicates, null available in the dataset\n",
    "print(\"Country Name is duplictaed - {}\".format(any(df_COVIDData.Country_Name.duplicated())))\n",
    "print(\"Country Name contains NaN - %r \" % df_COVIDData.isnull().values.any())"
   ]
  },
  {
   "cell_type": "code",
   "execution_count": 34,
   "metadata": {},
   "outputs": [
    {
     "data": {
      "text/html": [
       "<div>\n",
       "<style scoped>\n",
       "    .dataframe tbody tr th:only-of-type {\n",
       "        vertical-align: middle;\n",
       "    }\n",
       "\n",
       "    .dataframe tbody tr th {\n",
       "        vertical-align: top;\n",
       "    }\n",
       "\n",
       "    .dataframe thead th {\n",
       "        text-align: right;\n",
       "    }\n",
       "</style>\n",
       "<table border=\"1\" class=\"dataframe\">\n",
       "  <thead>\n",
       "    <tr style=\"text-align: right;\">\n",
       "      <th></th>\n",
       "      <th>country_region_code</th>\n",
       "      <th>Country_Name</th>\n",
       "      <th>sub_region_1</th>\n",
       "      <th>sub_region_2</th>\n",
       "      <th>metro_area</th>\n",
       "      <th>iso_3166_2_code</th>\n",
       "      <th>census_fips_code</th>\n",
       "      <th>date</th>\n",
       "      <th>retail_and_recreation_percent_change_from_baseline</th>\n",
       "      <th>grocery_and_pharmacy_percent_change_from_baseline</th>\n",
       "      <th>parks_percent_change_from_baseline</th>\n",
       "      <th>transit_stations_percent_change_from_baseline</th>\n",
       "      <th>workplaces_percent_change_from_baseline</th>\n",
       "      <th>residential_percent_change_from_baseline</th>\n",
       "    </tr>\n",
       "  </thead>\n",
       "  <tbody>\n",
       "    <tr>\n",
       "      <th>0</th>\n",
       "      <td>AE</td>\n",
       "      <td>United Arab Emirates</td>\n",
       "      <td>NaN</td>\n",
       "      <td>NaN</td>\n",
       "      <td>NaN</td>\n",
       "      <td>NaN</td>\n",
       "      <td>NaN</td>\n",
       "      <td>2020-02-15</td>\n",
       "      <td>0.0</td>\n",
       "      <td>4.0</td>\n",
       "      <td>5.0</td>\n",
       "      <td>0.0</td>\n",
       "      <td>2.0</td>\n",
       "      <td>1.0</td>\n",
       "    </tr>\n",
       "    <tr>\n",
       "      <th>1</th>\n",
       "      <td>AE</td>\n",
       "      <td>United Arab Emirates</td>\n",
       "      <td>NaN</td>\n",
       "      <td>NaN</td>\n",
       "      <td>NaN</td>\n",
       "      <td>NaN</td>\n",
       "      <td>NaN</td>\n",
       "      <td>2020-02-16</td>\n",
       "      <td>1.0</td>\n",
       "      <td>4.0</td>\n",
       "      <td>4.0</td>\n",
       "      <td>1.0</td>\n",
       "      <td>2.0</td>\n",
       "      <td>1.0</td>\n",
       "    </tr>\n",
       "    <tr>\n",
       "      <th>2</th>\n",
       "      <td>AE</td>\n",
       "      <td>United Arab Emirates</td>\n",
       "      <td>NaN</td>\n",
       "      <td>NaN</td>\n",
       "      <td>NaN</td>\n",
       "      <td>NaN</td>\n",
       "      <td>NaN</td>\n",
       "      <td>2020-02-17</td>\n",
       "      <td>-1.0</td>\n",
       "      <td>1.0</td>\n",
       "      <td>5.0</td>\n",
       "      <td>1.0</td>\n",
       "      <td>2.0</td>\n",
       "      <td>1.0</td>\n",
       "    </tr>\n",
       "    <tr>\n",
       "      <th>3</th>\n",
       "      <td>AE</td>\n",
       "      <td>United Arab Emirates</td>\n",
       "      <td>NaN</td>\n",
       "      <td>NaN</td>\n",
       "      <td>NaN</td>\n",
       "      <td>NaN</td>\n",
       "      <td>NaN</td>\n",
       "      <td>2020-02-18</td>\n",
       "      <td>-2.0</td>\n",
       "      <td>1.0</td>\n",
       "      <td>5.0</td>\n",
       "      <td>0.0</td>\n",
       "      <td>2.0</td>\n",
       "      <td>1.0</td>\n",
       "    </tr>\n",
       "    <tr>\n",
       "      <th>4</th>\n",
       "      <td>AE</td>\n",
       "      <td>United Arab Emirates</td>\n",
       "      <td>NaN</td>\n",
       "      <td>NaN</td>\n",
       "      <td>NaN</td>\n",
       "      <td>NaN</td>\n",
       "      <td>NaN</td>\n",
       "      <td>2020-02-19</td>\n",
       "      <td>-2.0</td>\n",
       "      <td>0.0</td>\n",
       "      <td>4.0</td>\n",
       "      <td>-1.0</td>\n",
       "      <td>2.0</td>\n",
       "      <td>1.0</td>\n",
       "    </tr>\n",
       "    <tr>\n",
       "      <th>...</th>\n",
       "      <td>...</td>\n",
       "      <td>...</td>\n",
       "      <td>...</td>\n",
       "      <td>...</td>\n",
       "      <td>...</td>\n",
       "      <td>...</td>\n",
       "      <td>...</td>\n",
       "      <td>...</td>\n",
       "      <td>...</td>\n",
       "      <td>...</td>\n",
       "      <td>...</td>\n",
       "      <td>...</td>\n",
       "      <td>...</td>\n",
       "      <td>...</td>\n",
       "    </tr>\n",
       "    <tr>\n",
       "      <th>4039490</th>\n",
       "      <td>ZW</td>\n",
       "      <td>Zimbabwe</td>\n",
       "      <td>Midlands Province</td>\n",
       "      <td>Kwekwe</td>\n",
       "      <td>NaN</td>\n",
       "      <td>NaN</td>\n",
       "      <td>NaN</td>\n",
       "      <td>2021-01-21</td>\n",
       "      <td>NaN</td>\n",
       "      <td>NaN</td>\n",
       "      <td>NaN</td>\n",
       "      <td>NaN</td>\n",
       "      <td>-36.0</td>\n",
       "      <td>NaN</td>\n",
       "    </tr>\n",
       "    <tr>\n",
       "      <th>4039491</th>\n",
       "      <td>ZW</td>\n",
       "      <td>Zimbabwe</td>\n",
       "      <td>Midlands Province</td>\n",
       "      <td>Kwekwe</td>\n",
       "      <td>NaN</td>\n",
       "      <td>NaN</td>\n",
       "      <td>NaN</td>\n",
       "      <td>2021-01-22</td>\n",
       "      <td>NaN</td>\n",
       "      <td>NaN</td>\n",
       "      <td>NaN</td>\n",
       "      <td>NaN</td>\n",
       "      <td>-28.0</td>\n",
       "      <td>NaN</td>\n",
       "    </tr>\n",
       "    <tr>\n",
       "      <th>4039492</th>\n",
       "      <td>ZW</td>\n",
       "      <td>Zimbabwe</td>\n",
       "      <td>Midlands Province</td>\n",
       "      <td>Kwekwe</td>\n",
       "      <td>NaN</td>\n",
       "      <td>NaN</td>\n",
       "      <td>NaN</td>\n",
       "      <td>2021-01-23</td>\n",
       "      <td>NaN</td>\n",
       "      <td>NaN</td>\n",
       "      <td>NaN</td>\n",
       "      <td>NaN</td>\n",
       "      <td>-34.0</td>\n",
       "      <td>NaN</td>\n",
       "    </tr>\n",
       "    <tr>\n",
       "      <th>4039493</th>\n",
       "      <td>ZW</td>\n",
       "      <td>Zimbabwe</td>\n",
       "      <td>Midlands Province</td>\n",
       "      <td>Kwekwe</td>\n",
       "      <td>NaN</td>\n",
       "      <td>NaN</td>\n",
       "      <td>NaN</td>\n",
       "      <td>2021-01-25</td>\n",
       "      <td>NaN</td>\n",
       "      <td>NaN</td>\n",
       "      <td>NaN</td>\n",
       "      <td>NaN</td>\n",
       "      <td>-39.0</td>\n",
       "      <td>NaN</td>\n",
       "    </tr>\n",
       "    <tr>\n",
       "      <th>4039494</th>\n",
       "      <td>ZW</td>\n",
       "      <td>Zimbabwe</td>\n",
       "      <td>Midlands Province</td>\n",
       "      <td>Kwekwe</td>\n",
       "      <td>NaN</td>\n",
       "      <td>NaN</td>\n",
       "      <td>NaN</td>\n",
       "      <td>2021-01-26</td>\n",
       "      <td>NaN</td>\n",
       "      <td>NaN</td>\n",
       "      <td>NaN</td>\n",
       "      <td>NaN</td>\n",
       "      <td>-30.0</td>\n",
       "      <td>NaN</td>\n",
       "    </tr>\n",
       "  </tbody>\n",
       "</table>\n",
       "<p>4039495 rows × 14 columns</p>\n",
       "</div>"
      ],
      "text/plain": [
       "        country_region_code          Country_Name       sub_region_1  \\\n",
       "0                        AE  United Arab Emirates                NaN   \n",
       "1                        AE  United Arab Emirates                NaN   \n",
       "2                        AE  United Arab Emirates                NaN   \n",
       "3                        AE  United Arab Emirates                NaN   \n",
       "4                        AE  United Arab Emirates                NaN   \n",
       "...                     ...                   ...                ...   \n",
       "4039490                  ZW              Zimbabwe  Midlands Province   \n",
       "4039491                  ZW              Zimbabwe  Midlands Province   \n",
       "4039492                  ZW              Zimbabwe  Midlands Province   \n",
       "4039493                  ZW              Zimbabwe  Midlands Province   \n",
       "4039494                  ZW              Zimbabwe  Midlands Province   \n",
       "\n",
       "        sub_region_2 metro_area iso_3166_2_code  census_fips_code        date  \\\n",
       "0                NaN        NaN             NaN               NaN  2020-02-15   \n",
       "1                NaN        NaN             NaN               NaN  2020-02-16   \n",
       "2                NaN        NaN             NaN               NaN  2020-02-17   \n",
       "3                NaN        NaN             NaN               NaN  2020-02-18   \n",
       "4                NaN        NaN             NaN               NaN  2020-02-19   \n",
       "...              ...        ...             ...               ...         ...   \n",
       "4039490       Kwekwe        NaN             NaN               NaN  2021-01-21   \n",
       "4039491       Kwekwe        NaN             NaN               NaN  2021-01-22   \n",
       "4039492       Kwekwe        NaN             NaN               NaN  2021-01-23   \n",
       "4039493       Kwekwe        NaN             NaN               NaN  2021-01-25   \n",
       "4039494       Kwekwe        NaN             NaN               NaN  2021-01-26   \n",
       "\n",
       "         retail_and_recreation_percent_change_from_baseline  \\\n",
       "0                                                      0.0    \n",
       "1                                                      1.0    \n",
       "2                                                     -1.0    \n",
       "3                                                     -2.0    \n",
       "4                                                     -2.0    \n",
       "...                                                    ...    \n",
       "4039490                                                NaN    \n",
       "4039491                                                NaN    \n",
       "4039492                                                NaN    \n",
       "4039493                                                NaN    \n",
       "4039494                                                NaN    \n",
       "\n",
       "         grocery_and_pharmacy_percent_change_from_baseline  \\\n",
       "0                                                      4.0   \n",
       "1                                                      4.0   \n",
       "2                                                      1.0   \n",
       "3                                                      1.0   \n",
       "4                                                      0.0   \n",
       "...                                                    ...   \n",
       "4039490                                                NaN   \n",
       "4039491                                                NaN   \n",
       "4039492                                                NaN   \n",
       "4039493                                                NaN   \n",
       "4039494                                                NaN   \n",
       "\n",
       "         parks_percent_change_from_baseline  \\\n",
       "0                                       5.0   \n",
       "1                                       4.0   \n",
       "2                                       5.0   \n",
       "3                                       5.0   \n",
       "4                                       4.0   \n",
       "...                                     ...   \n",
       "4039490                                 NaN   \n",
       "4039491                                 NaN   \n",
       "4039492                                 NaN   \n",
       "4039493                                 NaN   \n",
       "4039494                                 NaN   \n",
       "\n",
       "         transit_stations_percent_change_from_baseline  \\\n",
       "0                                                  0.0   \n",
       "1                                                  1.0   \n",
       "2                                                  1.0   \n",
       "3                                                  0.0   \n",
       "4                                                 -1.0   \n",
       "...                                                ...   \n",
       "4039490                                            NaN   \n",
       "4039491                                            NaN   \n",
       "4039492                                            NaN   \n",
       "4039493                                            NaN   \n",
       "4039494                                            NaN   \n",
       "\n",
       "         workplaces_percent_change_from_baseline  \\\n",
       "0                                            2.0   \n",
       "1                                            2.0   \n",
       "2                                            2.0   \n",
       "3                                            2.0   \n",
       "4                                            2.0   \n",
       "...                                          ...   \n",
       "4039490                                    -36.0   \n",
       "4039491                                    -28.0   \n",
       "4039492                                    -34.0   \n",
       "4039493                                    -39.0   \n",
       "4039494                                    -30.0   \n",
       "\n",
       "         residential_percent_change_from_baseline  \n",
       "0                                             1.0  \n",
       "1                                             1.0  \n",
       "2                                             1.0  \n",
       "3                                             1.0  \n",
       "4                                             1.0  \n",
       "...                                           ...  \n",
       "4039490                                       NaN  \n",
       "4039491                                       NaN  \n",
       "4039492                                       NaN  \n",
       "4039493                                       NaN  \n",
       "4039494                                       NaN  \n",
       "\n",
       "[4039495 rows x 14 columns]"
      ]
     },
     "execution_count": 34,
     "metadata": {},
     "output_type": "execute_result"
    }
   ],
   "source": [
    "df_COVIDData"
   ]
  },
  {
   "cell_type": "code",
   "execution_count": 35,
   "metadata": {},
   "outputs": [
    {
     "data": {
      "text/plain": [
       "country_region_code                                      2572\n",
       "Country_Name                                                0\n",
       "sub_region_1                                            69043\n",
       "sub_region_2                                           674382\n",
       "metro_area                                            4017075\n",
       "iso_3166_2_code                                       3315028\n",
       "census_fips_code                                      3177555\n",
       "date                                                        0\n",
       "retail_and_recreation_percent_change_from_baseline    1496394\n",
       "grocery_and_pharmacy_percent_change_from_baseline     1584485\n",
       "parks_percent_change_from_baseline                    2103752\n",
       "transit_stations_percent_change_from_baseline         1996979\n",
       "workplaces_percent_change_from_baseline                191363\n",
       "residential_percent_change_from_baseline              1698329\n",
       "dtype: int64"
      ]
     },
     "execution_count": 35,
     "metadata": {},
     "output_type": "execute_result"
    }
   ],
   "source": [
    "df_COVIDData.isnull().sum()"
   ]
  },
  {
   "cell_type": "code",
   "execution_count": 40,
   "metadata": {},
   "outputs": [],
   "source": [
    "df_COVIDData.dropna(axis=0,inplace=True)\n",
    "df_Country.dropna(axis=0,inplace=True)"
   ]
  },
  {
   "cell_type": "code",
   "execution_count": 42,
   "metadata": {},
   "outputs": [
    {
     "data": {
      "text/plain": [
       "Series([], Name: country_code, dtype: object)"
      ]
     },
     "execution_count": 42,
     "metadata": {},
     "output_type": "execute_result"
    }
   ],
   "source": [
    "df_COVIDData['country_region_code'].fillna('No Region', inplace=True)\n",
    "df_Country['country_code'].fillna('No Country', inplace=True)"
   ]
  },
  {
   "cell_type": "code",
   "execution_count": 43,
   "metadata": {},
   "outputs": [
    {
     "data": {
      "text/plain": [
       "Series([], dtype: bool)"
      ]
     },
     "execution_count": 43,
     "metadata": {},
     "output_type": "execute_result"
    }
   ],
   "source": [
    "df_COVIDData.duplicated()"
   ]
  },
  {
   "cell_type": "code",
   "execution_count": 44,
   "metadata": {},
   "outputs": [
    {
     "data": {
      "text/plain": [
       "Series([], Name: country_region_code, dtype: object)"
      ]
     },
     "execution_count": 44,
     "metadata": {},
     "output_type": "execute_result"
    }
   ],
   "source": [
    "df_COVIDData['country_region_code'].replace(to_replace = np.nan, value = 0,inplace=True)"
   ]
  },
  {
   "cell_type": "code",
   "execution_count": 45,
   "metadata": {},
   "outputs": [
    {
     "data": {
      "text/html": [
       "<div>\n",
       "<style scoped>\n",
       "    .dataframe tbody tr th:only-of-type {\n",
       "        vertical-align: middle;\n",
       "    }\n",
       "\n",
       "    .dataframe tbody tr th {\n",
       "        vertical-align: top;\n",
       "    }\n",
       "\n",
       "    .dataframe thead th {\n",
       "        text-align: right;\n",
       "    }\n",
       "</style>\n",
       "<table border=\"1\" class=\"dataframe\">\n",
       "  <thead>\n",
       "    <tr style=\"text-align: right;\">\n",
       "      <th></th>\n",
       "      <th>country_region_code</th>\n",
       "      <th>sub_region_1</th>\n",
       "      <th>sub_region_2</th>\n",
       "      <th>metro_area</th>\n",
       "      <th>iso_3166_2_code</th>\n",
       "      <th>census_fips_code</th>\n",
       "      <th>date</th>\n",
       "      <th>retail_and_recreation_percent_change_from_baseline</th>\n",
       "      <th>grocery_and_pharmacy_percent_change_from_baseline</th>\n",
       "      <th>parks_percent_change_from_baseline</th>\n",
       "      <th>...</th>\n",
       "      <th>Government Accounting concept</th>\n",
       "      <th>IMF data dissemination standard</th>\n",
       "      <th>Latest population census</th>\n",
       "      <th>Latest household survey</th>\n",
       "      <th>Source of most recent Income and expenditure data</th>\n",
       "      <th>Vital registration complete</th>\n",
       "      <th>Latest agricultural census</th>\n",
       "      <th>Latest industrial data</th>\n",
       "      <th>Latest trade data</th>\n",
       "      <th>Unnamed: 30</th>\n",
       "    </tr>\n",
       "  </thead>\n",
       "  <tbody>\n",
       "  </tbody>\n",
       "</table>\n",
       "<p>0 rows × 42 columns</p>\n",
       "</div>"
      ],
      "text/plain": [
       "Empty DataFrame\n",
       "Columns: [country_region_code, sub_region_1, sub_region_2, metro_area, iso_3166_2_code, census_fips_code, date, retail_and_recreation_percent_change_from_baseline, grocery_and_pharmacy_percent_change_from_baseline, parks_percent_change_from_baseline, transit_stations_percent_change_from_baseline, workplaces_percent_change_from_baseline, residential_percent_change_from_baseline, country_code, Country, Country_Name, Country_FullName, 2-alpha code, Currency Unit, Region, Income Group, WB-2 code, National accounts base year, National accounts reference year, SNA price valuation, Lending category, Other groups, System of National Accounts, Alternative conversion factor, PPP survey year, Balance of Payments Manual in use, External debt Reporting status, Government Accounting concept, IMF data dissemination standard, Latest population census, Latest household survey, Source of most recent Income and expenditure data, Vital registration complete, Latest agricultural census, Latest industrial data, Latest trade data, Unnamed: 30]\n",
       "Index: []\n",
       "\n",
       "[0 rows x 42 columns]"
      ]
     },
     "execution_count": 45,
     "metadata": {},
     "output_type": "execute_result"
    }
   ],
   "source": [
    "pd.merge(df_COVIDData, df_Country)"
   ]
  },
  {
   "cell_type": "code",
   "execution_count": 46,
   "metadata": {},
   "outputs": [
    {
     "data": {
      "text/html": [
       "<div>\n",
       "<style scoped>\n",
       "    .dataframe tbody tr th:only-of-type {\n",
       "        vertical-align: middle;\n",
       "    }\n",
       "\n",
       "    .dataframe tbody tr th {\n",
       "        vertical-align: top;\n",
       "    }\n",
       "\n",
       "    .dataframe thead th {\n",
       "        text-align: right;\n",
       "    }\n",
       "</style>\n",
       "<table border=\"1\" class=\"dataframe\">\n",
       "  <thead>\n",
       "    <tr style=\"text-align: right;\">\n",
       "      <th></th>\n",
       "      <th>census_fips_code</th>\n",
       "      <th>retail_and_recreation_percent_change_from_baseline</th>\n",
       "      <th>grocery_and_pharmacy_percent_change_from_baseline</th>\n",
       "      <th>parks_percent_change_from_baseline</th>\n",
       "      <th>transit_stations_percent_change_from_baseline</th>\n",
       "      <th>workplaces_percent_change_from_baseline</th>\n",
       "      <th>residential_percent_change_from_baseline</th>\n",
       "    </tr>\n",
       "    <tr>\n",
       "      <th>country_region_code</th>\n",
       "      <th></th>\n",
       "      <th></th>\n",
       "      <th></th>\n",
       "      <th></th>\n",
       "      <th></th>\n",
       "      <th></th>\n",
       "      <th></th>\n",
       "    </tr>\n",
       "  </thead>\n",
       "  <tbody>\n",
       "  </tbody>\n",
       "</table>\n",
       "</div>"
      ],
      "text/plain": [
       "Empty DataFrame\n",
       "Columns: [census_fips_code, retail_and_recreation_percent_change_from_baseline, grocery_and_pharmacy_percent_change_from_baseline, parks_percent_change_from_baseline, transit_stations_percent_change_from_baseline, workplaces_percent_change_from_baseline, residential_percent_change_from_baseline]\n",
       "Index: []"
      ]
     },
     "execution_count": 46,
     "metadata": {},
     "output_type": "execute_result"
    }
   ],
   "source": [
    "df_COVIDData.groupby(df_COVIDData[\"country_region_code\"]).sum()"
   ]
  },
  {
   "cell_type": "code",
   "execution_count": 49,
   "metadata": {},
   "outputs": [
    {
     "data": {
      "text/plain": [
       "(2021, 2, 11)"
      ]
     },
     "execution_count": 49,
     "metadata": {},
     "output_type": "execute_result"
    }
   ],
   "source": [
    "now = datetime.now()\n",
    "now\n",
    "now.year, now.month, now.day"
   ]
  },
  {
   "cell_type": "code",
   "execution_count": 50,
   "metadata": {},
   "outputs": [
    {
     "data": {
      "text/plain": [
       "DatetimeIndex(['2021-02-01', '2021-02-02'], dtype='datetime64[ns]', freq='D')"
      ]
     },
     "execution_count": 50,
     "metadata": {},
     "output_type": "execute_result"
    }
   ],
   "source": [
    "index = pd.date_range('2021-02-01', '2021-02-02')\n",
    "index"
   ]
  },
  {
   "cell_type": "code",
   "execution_count": 51,
   "metadata": {},
   "outputs": [
    {
     "data": {
      "text/plain": [
       "Period('2021-12', 'M')"
      ]
     },
     "execution_count": 51,
     "metadata": {},
     "output_type": "execute_result"
    }
   ],
   "source": [
    "p = pd.Period('2021', freq='A-DEC')\n",
    "p\n",
    "p.asfreq('M', how='start')\n",
    "p.asfreq('M', how='end')"
   ]
  },
  {
   "cell_type": "code",
   "execution_count": 18,
   "metadata": {},
   "outputs": [],
   "source": [
    "# calculate summary statistics\n",
    "data_mean, data_std = mean(df_Country), std(df_Country)\n",
    "# identify outliers\n",
    "cut_off = data_std * 3\n",
    "lower, upper = data_mean - cut_off, data_mean + cut_off\n"
   ]
  },
  {
   "cell_type": "code",
   "execution_count": null,
   "metadata": {},
   "outputs": [],
   "source": [
    "# identify outliers\n",
    "outliers  = [x for x in df_Country if x < lower or x > upper]\n",
    "\n",
    "# remove outliers\n",
    "df_Country = [x for x in df_Country if x >= lower and x <= upper]"
   ]
  },
  {
   "cell_type": "code",
   "execution_count": null,
   "metadata": {},
   "outputs": [],
   "source": [
    "# calculate summary statistics\n",
    "data_mean, data_std = mean(df_ESGData), std(df_ESGData)\n",
    "# identify outliers\n",
    "cut_off = data_std * 3\n",
    "lower, upper = data_mean - cut_off, data_mean + cut_off"
   ]
  },
  {
   "cell_type": "code",
   "execution_count": null,
   "metadata": {},
   "outputs": [],
   "source": [
    "# identify outliers\n",
    "outliers  = [x for x in df_ESGData if x < lower or x > upper]\n",
    "\n",
    "# remove outliers\n",
    "df_ESGData = [x for x in df_ESGData if x >= lower and x <= upper]"
   ]
  },
  {
   "cell_type": "code",
   "execution_count": null,
   "metadata": {},
   "outputs": [],
   "source": [
    "# calculate summary statistics\n",
    "data_mean, data_std = mean(df_HNPQData), std(df_HNPQData)\n",
    "# identify outliers\n",
    "cut_off = data_std * 3\n",
    "lower, upper = data_mean - cut_off, data_mean + cut_off"
   ]
  },
  {
   "cell_type": "code",
   "execution_count": null,
   "metadata": {},
   "outputs": [],
   "source": [
    "# identify outliers\n",
    "outliers  = [x for x in df_HNPQData if x < lower or x > upper]\n",
    "\n",
    "# remove outliers\n",
    "df_HNPQData = [x for x in df_HNPQData if x >= lower and x <= upper]"
   ]
  },
  {
   "cell_type": "markdown",
   "metadata": {},
   "source": [
    "##  Get API Data - Country"
   ]
  },
  {
   "cell_type": "code",
   "execution_count": 49,
   "metadata": {},
   "outputs": [],
   "source": [
    "def get_country_data(country):\n",
    "    \"\"\"\n",
    "    Function to get data about a country from \"https://restcountries.eu\" API\n",
    "    \"\"\"\n",
    "    country_name=str(country)\n",
    "    url = 'https://restcountries.eu/rest/v2/name/' + country_name\n",
    "    \n",
    "    try: \n",
    "        uh = urllib.request.urlopen(url)\n",
    "    except HTTPError as e:\n",
    "        print(\"Sorry! Could not retrive anything on {}\".format(country_name))\n",
    "        return None\n",
    "    except URLError as e:\n",
    "        print('Failed to reach a server.')\n",
    "        print('Reason: ', e.reason)\n",
    "        return None\n",
    "    else:\n",
    "        data = uh.read().decode()\n",
    "        print(\"Retrieved data on {}. Total {} characters read.\".format(country_name,len(data)))\n",
    "        return data"
   ]
  },
  {
   "cell_type": "code",
   "execution_count": 50,
   "metadata": {},
   "outputs": [
    {
     "name": "stdout",
     "output_type": "stream",
     "text": [
      "Retrieved data on India. Total 2269 characters read.\n"
     ]
    }
   ],
   "source": [
    "country_name = 'India'\n",
    "data=get_country_data(country_name)"
   ]
  },
  {
   "cell_type": "code",
   "execution_count": 51,
   "metadata": {},
   "outputs": [],
   "source": [
    "JsonData=json.loads(data)"
   ]
  },
  {
   "cell_type": "code",
   "execution_count": 52,
   "metadata": {},
   "outputs": [],
   "source": [
    "def build_country_database(list_country):\n",
    "    \"\"\"\n",
    "    Takes a list of country names.\n",
    "    Output a DataFrame with key information about those countries.\n",
    "    \"\"\"\n",
    "    # Define an empty dictionary with keys\n",
    "    country_dict={'Country':[],'Capital':[],'Region':[],'Sub-region':[],'Population':[],\n",
    "                  'Lattitude':[],'Longitude':[],'Area':[],'Gini':[],'Timezones':[],\n",
    "                  'Currencies':[],'Languages':[]}\n",
    "    \n",
    "    for c in list_country:\n",
    "        data = get_country_data(c)\n",
    "        if data!=None:\n",
    "            x = json.loads(data)\n",
    "            y=x[0]\n",
    "            country_dict['Country'].append(y['name'])\n",
    "            country_dict['Capital'].append(y['capital'])\n",
    "            country_dict['Region'].append(y['region'])\n",
    "            country_dict['Sub-region'].append(y['subregion'])\n",
    "            country_dict['Population'].append(y['population'])\n",
    "            country_dict['Lattitude'].append(y['latlng'][0])\n",
    "            country_dict['Longitude'].append(y['latlng'][1])\n",
    "            country_dict['Area'].append(y['area'])\n",
    "            country_dict['Gini'].append(y['gini'])\n",
    "            # Note the code to handle possibility of multiple timezones as a list\n",
    "            if len(y['timezones'])>1:\n",
    "                country_dict['Timezones'].append(','.join(y['timezones']))\n",
    "            else:\n",
    "                country_dict['Timezones'].append(y['timezones'][0])\n",
    "            # Note the code to handle possibility of multiple currencies as dictionaries\n",
    "            if len(y['currencies'])>1:\n",
    "                lst_currencies = []\n",
    "                for i in y['currencies']:\n",
    "                    lst_currencies.append(i['name'])\n",
    "                country_dict['Currencies'].append(','.join(lst_currencies))\n",
    "            else:\n",
    "                country_dict['Currencies'].append(y['currencies'][0]['name'])\n",
    "            # Note the code to handle possibility of multiple languages as dictionaries\n",
    "            if len(y['languages'])>1:\n",
    "                lst_languages = []\n",
    "                for i in y['languages']:\n",
    "                    lst_languages.append(i['name'])\n",
    "                country_dict['Languages'].append(','.join(lst_languages))\n",
    "            else:\n",
    "                country_dict['Languages'].append(y['languages'][0]['name'])\n",
    "    \n",
    "    # Return as a Pandas DataFrame\n",
    "    return pd.DataFrame(country_dict)"
   ]
  },
  {
   "cell_type": "code",
   "execution_count": 53,
   "metadata": {},
   "outputs": [
    {
     "name": "stdout",
     "output_type": "stream",
     "text": [
      "Retrieved data on India. Total 2269 characters read.\n",
      "Retrieved data on Switzerland. Total 1090 characters read.\n",
      "Retrieved data on France. Total 1047 characters read.\n",
      "Retrieved data on Russia. Total 1120 characters read.\n",
      "Retrieved data on Kenya. Total 1052 characters read.\n",
      "Retrieved data on Singapore. Total 1223 characters read.\n"
     ]
    }
   ],
   "source": [
    "Country_df=build_country_database(['India','Switzerland','France',\n",
    "                            'Russia','Kenya','Singapore'])"
   ]
  },
  {
   "cell_type": "code",
   "execution_count": 54,
   "metadata": {},
   "outputs": [
    {
     "data": {
      "text/html": [
       "<div>\n",
       "<style scoped>\n",
       "    .dataframe tbody tr th:only-of-type {\n",
       "        vertical-align: middle;\n",
       "    }\n",
       "\n",
       "    .dataframe tbody tr th {\n",
       "        vertical-align: top;\n",
       "    }\n",
       "\n",
       "    .dataframe thead th {\n",
       "        text-align: right;\n",
       "    }\n",
       "</style>\n",
       "<table border=\"1\" class=\"dataframe\">\n",
       "  <thead>\n",
       "    <tr style=\"text-align: right;\">\n",
       "      <th></th>\n",
       "      <th>Country</th>\n",
       "      <th>Capital</th>\n",
       "      <th>Region</th>\n",
       "      <th>Sub-region</th>\n",
       "      <th>Population</th>\n",
       "      <th>Lattitude</th>\n",
       "      <th>Longitude</th>\n",
       "      <th>Area</th>\n",
       "      <th>Gini</th>\n",
       "      <th>Timezones</th>\n",
       "      <th>Currencies</th>\n",
       "      <th>Languages</th>\n",
       "    </tr>\n",
       "  </thead>\n",
       "  <tbody>\n",
       "    <tr>\n",
       "      <th>0</th>\n",
       "      <td>British Indian Ocean Territory</td>\n",
       "      <td>Diego Garcia</td>\n",
       "      <td>Africa</td>\n",
       "      <td>Eastern Africa</td>\n",
       "      <td>3000</td>\n",
       "      <td>-6.0</td>\n",
       "      <td>71.5</td>\n",
       "      <td>60.0</td>\n",
       "      <td>NaN</td>\n",
       "      <td>UTC+06:00</td>\n",
       "      <td>United States dollar</td>\n",
       "      <td>English</td>\n",
       "    </tr>\n",
       "    <tr>\n",
       "      <th>1</th>\n",
       "      <td>Switzerland</td>\n",
       "      <td>Bern</td>\n",
       "      <td>Europe</td>\n",
       "      <td>Western Europe</td>\n",
       "      <td>8341600</td>\n",
       "      <td>47.0</td>\n",
       "      <td>8.0</td>\n",
       "      <td>41284.0</td>\n",
       "      <td>33.7</td>\n",
       "      <td>UTC+01:00</td>\n",
       "      <td>Swiss franc</td>\n",
       "      <td>German,French,Italian</td>\n",
       "    </tr>\n",
       "  </tbody>\n",
       "</table>\n",
       "</div>"
      ],
      "text/plain": [
       "                          Country       Capital  Region      Sub-region  \\\n",
       "0  British Indian Ocean Territory  Diego Garcia  Africa  Eastern Africa   \n",
       "1                     Switzerland          Bern  Europe  Western Europe   \n",
       "\n",
       "   Population  Lattitude  Longitude     Area  Gini  Timezones  \\\n",
       "0        3000       -6.0       71.5     60.0   NaN  UTC+06:00   \n",
       "1     8341600       47.0        8.0  41284.0  33.7  UTC+01:00   \n",
       "\n",
       "             Currencies              Languages  \n",
       "0  United States dollar                English  \n",
       "1           Swiss franc  German,French,Italian  "
      ]
     },
     "execution_count": 54,
     "metadata": {},
     "output_type": "execute_result"
    }
   ],
   "source": [
    "Country_df.head(2)"
   ]
  },
  {
   "cell_type": "code",
   "execution_count": 55,
   "metadata": {},
   "outputs": [],
   "source": [
    "# calculate summary statistics\n",
    "data_mean, data_std = mean(Country_df), std(Country_df)\n",
    "# identify outliers\n",
    "cut_off = data_std * 3\n",
    "lower, upper = data_mean - cut_off, data_mean + cut_off\n"
   ]
  },
  {
   "cell_type": "code",
   "execution_count": null,
   "metadata": {},
   "outputs": [],
   "source": [
    "# identify outliers\n",
    "outliers  = [x for x in Country_df if x < lower or x > upper]\n",
    "\n",
    "# remove outliers\n",
    "Country_df = [x for x in Country_df if x >= lower and x <= upper]"
   ]
  },
  {
   "cell_type": "code",
   "execution_count": 58,
   "metadata": {},
   "outputs": [
    {
     "data": {
      "text/html": [
       "<div>\n",
       "<style scoped>\n",
       "    .dataframe tbody tr th:only-of-type {\n",
       "        vertical-align: middle;\n",
       "    }\n",
       "\n",
       "    .dataframe tbody tr th {\n",
       "        vertical-align: top;\n",
       "    }\n",
       "\n",
       "    .dataframe thead th {\n",
       "        text-align: right;\n",
       "    }\n",
       "</style>\n",
       "<table border=\"1\" class=\"dataframe\">\n",
       "  <thead>\n",
       "    <tr style=\"text-align: right;\">\n",
       "      <th></th>\n",
       "      <th>Country</th>\n",
       "      <th>Capital</th>\n",
       "      <th>Region</th>\n",
       "      <th>Sub-region</th>\n",
       "      <th>Population</th>\n",
       "      <th>Lattitude</th>\n",
       "      <th>Longitude</th>\n",
       "      <th>Area</th>\n",
       "      <th>Gini</th>\n",
       "      <th>Timezones</th>\n",
       "      <th>Currencies</th>\n",
       "      <th>Languages</th>\n",
       "    </tr>\n",
       "  </thead>\n",
       "  <tbody>\n",
       "    <tr>\n",
       "      <th>0</th>\n",
       "      <td>British Indian Ocean Territory</td>\n",
       "      <td>Diego Garcia</td>\n",
       "      <td>Africa</td>\n",
       "      <td>Eastern Africa</td>\n",
       "      <td>3000</td>\n",
       "      <td>-6.000000</td>\n",
       "      <td>71.5</td>\n",
       "      <td>60.0</td>\n",
       "      <td>NaN</td>\n",
       "      <td>UTC+06:00</td>\n",
       "      <td>United States dollar</td>\n",
       "      <td>English</td>\n",
       "    </tr>\n",
       "    <tr>\n",
       "      <th>1</th>\n",
       "      <td>Switzerland</td>\n",
       "      <td>Bern</td>\n",
       "      <td>Europe</td>\n",
       "      <td>Western Europe</td>\n",
       "      <td>8341600</td>\n",
       "      <td>47.000000</td>\n",
       "      <td>8.0</td>\n",
       "      <td>41284.0</td>\n",
       "      <td>33.7</td>\n",
       "      <td>UTC+01:00</td>\n",
       "      <td>Swiss franc</td>\n",
       "      <td>German,French,Italian</td>\n",
       "    </tr>\n",
       "    <tr>\n",
       "      <th>2</th>\n",
       "      <td>France</td>\n",
       "      <td>Paris</td>\n",
       "      <td>Europe</td>\n",
       "      <td>Western Europe</td>\n",
       "      <td>66710000</td>\n",
       "      <td>46.000000</td>\n",
       "      <td>2.0</td>\n",
       "      <td>640679.0</td>\n",
       "      <td>32.7</td>\n",
       "      <td>UTC-10:00,UTC-09:30,UTC-09:00,UTC-08:00,UTC-04...</td>\n",
       "      <td>Euro</td>\n",
       "      <td>French</td>\n",
       "    </tr>\n",
       "    <tr>\n",
       "      <th>3</th>\n",
       "      <td>Russian Federation</td>\n",
       "      <td>Moscow</td>\n",
       "      <td>Europe</td>\n",
       "      <td>Eastern Europe</td>\n",
       "      <td>146599183</td>\n",
       "      <td>60.000000</td>\n",
       "      <td>100.0</td>\n",
       "      <td>17124442.0</td>\n",
       "      <td>40.1</td>\n",
       "      <td>UTC+03:00,UTC+04:00,UTC+06:00,UTC+07:00,UTC+08...</td>\n",
       "      <td>Russian ruble</td>\n",
       "      <td>Russian</td>\n",
       "    </tr>\n",
       "    <tr>\n",
       "      <th>4</th>\n",
       "      <td>Kenya</td>\n",
       "      <td>Nairobi</td>\n",
       "      <td>Africa</td>\n",
       "      <td>Eastern Africa</td>\n",
       "      <td>47251000</td>\n",
       "      <td>1.000000</td>\n",
       "      <td>38.0</td>\n",
       "      <td>580367.0</td>\n",
       "      <td>47.7</td>\n",
       "      <td>UTC+03:00</td>\n",
       "      <td>Kenyan shilling</td>\n",
       "      <td>English,Swahili</td>\n",
       "    </tr>\n",
       "    <tr>\n",
       "      <th>5</th>\n",
       "      <td>Singapore</td>\n",
       "      <td>Singapore</td>\n",
       "      <td>Asia</td>\n",
       "      <td>South-Eastern Asia</td>\n",
       "      <td>5535000</td>\n",
       "      <td>1.366667</td>\n",
       "      <td>103.8</td>\n",
       "      <td>710.0</td>\n",
       "      <td>48.1</td>\n",
       "      <td>UTC+08:00</td>\n",
       "      <td>Brunei dollar,Singapore dollar</td>\n",
       "      <td>English,Malay,Tamil,Chinese</td>\n",
       "    </tr>\n",
       "  </tbody>\n",
       "</table>\n",
       "</div>"
      ],
      "text/plain": [
       "                          Country       Capital  Region          Sub-region  \\\n",
       "0  British Indian Ocean Territory  Diego Garcia  Africa      Eastern Africa   \n",
       "1                     Switzerland          Bern  Europe      Western Europe   \n",
       "2                          France         Paris  Europe      Western Europe   \n",
       "3              Russian Federation        Moscow  Europe      Eastern Europe   \n",
       "4                           Kenya       Nairobi  Africa      Eastern Africa   \n",
       "5                       Singapore     Singapore    Asia  South-Eastern Asia   \n",
       "\n",
       "   Population  Lattitude  Longitude        Area  Gini  \\\n",
       "0        3000  -6.000000       71.5        60.0   NaN   \n",
       "1     8341600  47.000000        8.0     41284.0  33.7   \n",
       "2    66710000  46.000000        2.0    640679.0  32.7   \n",
       "3   146599183  60.000000      100.0  17124442.0  40.1   \n",
       "4    47251000   1.000000       38.0    580367.0  47.7   \n",
       "5     5535000   1.366667      103.8       710.0  48.1   \n",
       "\n",
       "                                           Timezones  \\\n",
       "0                                          UTC+06:00   \n",
       "1                                          UTC+01:00   \n",
       "2  UTC-10:00,UTC-09:30,UTC-09:00,UTC-08:00,UTC-04...   \n",
       "3  UTC+03:00,UTC+04:00,UTC+06:00,UTC+07:00,UTC+08...   \n",
       "4                                          UTC+03:00   \n",
       "5                                          UTC+08:00   \n",
       "\n",
       "                       Currencies                    Languages  \n",
       "0            United States dollar                      English  \n",
       "1                     Swiss franc        German,French,Italian  \n",
       "2                            Euro                       French  \n",
       "3                   Russian ruble                      Russian  \n",
       "4                 Kenyan shilling              English,Swahili  \n",
       "5  Brunei dollar,Singapore dollar  English,Malay,Tamil,Chinese  "
      ]
     },
     "execution_count": 58,
     "metadata": {},
     "output_type": "execute_result"
    }
   ],
   "source": [
    "Country_df"
   ]
  },
  {
   "cell_type": "code",
   "execution_count": 59,
   "metadata": {},
   "outputs": [
    {
     "name": "stdout",
     "output_type": "stream",
     "text": [
      "Country Name is duplictaed - False\n",
      "Country Name contains NaN - True \n"
     ]
    }
   ],
   "source": [
    "# Dropping few unwanted columns\n",
    "Country_df.drop(columns =['Area','Currencies']) \n",
    "\n",
    "# Removing the data with NA data\n",
    "Country_df.Country.dropna()\n",
    "\n",
    "#Replacing Nan values wiht No Data\n",
    "Country_df['Gini'].fillna('No Data')\n",
    "\n",
    "\n",
    "# Verifying if any duplicates, null available in the dataset\n",
    "print(\"Country Name is duplictaed - {}\".format(any(Country_df.Country.duplicated())))\n",
    "print(\"Country Name contains NaN - %r \" % Country_df.isnull().values.any())"
   ]
  },
  {
   "cell_type": "code",
   "execution_count": 60,
   "metadata": {},
   "outputs": [
    {
     "data": {
      "text/plain": [
       "0    False\n",
       "1    False\n",
       "2    False\n",
       "3    False\n",
       "4    False\n",
       "5    False\n",
       "dtype: bool"
      ]
     },
     "execution_count": 60,
     "metadata": {},
     "output_type": "execute_result"
    }
   ],
   "source": [
    "Country_df.duplicated()"
   ]
  },
  {
   "cell_type": "markdown",
   "metadata": {},
   "source": [
    "## References\n",
    "\n",
    "World Development Indicators\n",
    "\n",
    "https://datacatalog.worldbank.org/dataset/environment-social-and-governance-data\n",
    "\n",
    "https://datacatalog.worldbank.org/dataset/health-nutrition-and-population-statistics-wealth-quintile\n",
    "\n",
    "https://www.kaggle.com/shabou/world-developement-indicators-environment?select=WDI-Environment.csv\n",
    "\n",
    "\n",
    "COVID 19 Indicators\n",
    "\n",
    "http://pubdocs.worldbank.org/en/589511605042232186/COVID-19-Hzigh-Frequency-Monitoring-Dashboard-Data-Dictionary.xls\n",
    "https://www.google.com/covid19/mobility/"
   ]
  },
  {
   "cell_type": "code",
   "execution_count": null,
   "metadata": {},
   "outputs": [],
   "source": []
  },
  {
   "cell_type": "code",
   "execution_count": null,
   "metadata": {},
   "outputs": [],
   "source": []
  },
  {
   "cell_type": "code",
   "execution_count": null,
   "metadata": {},
   "outputs": [],
   "source": []
  },
  {
   "cell_type": "code",
   "execution_count": null,
   "metadata": {},
   "outputs": [],
   "source": []
  }
 ],
 "metadata": {
  "kernelspec": {
   "display_name": "Python 3",
   "language": "python",
   "name": "python3"
  },
  "language_info": {
   "codemirror_mode": {
    "name": "ipython",
    "version": 3
   },
   "file_extension": ".py",
   "mimetype": "text/x-python",
   "name": "python",
   "nbconvert_exporter": "python",
   "pygments_lexer": "ipython3",
   "version": "3.8.3"
  }
 },
 "nbformat": 4,
 "nbformat_minor": 4
}
